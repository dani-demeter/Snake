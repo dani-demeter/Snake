{
 "cells": [
  {
   "cell_type": "markdown",
   "metadata": {},
   "source": [
    "<div style=\"width: 100%; background-color: #090821; border-radius: 20px; height: 4em; position: relative; left: 0; top: 0;\">\n",
    "<p style=\"color: #21c9ef; font-size: 2em; position: absolute; top: 50%; left: 50%; transform: translate(-50%, -50%)\">IMPORTS</p></div>"
   ]
  },
  {
   "cell_type": "code",
   "execution_count": 276,
   "metadata": {
    "collapsed": true
   },
   "outputs": [],
   "source": [
    "import json\n",
    "import random\n",
    "from IPython.display import clear_output\n",
    "import time\n",
    "import sys\n",
    "import copy\n",
    "import math\n",
    "import numpy as np"
   ]
  },
  {
   "cell_type": "markdown",
   "metadata": {},
   "source": [
    "<div style=\"width: 100%; background-color: #090821; border-radius: 20px; height: 4em; position: relative; left: 0; top: 0;\">\n",
    "<p style=\"color: #21c9ef; font-size: 2em; position: absolute; top: 50%; left: 50%; transform: translate(-50%, -50%)\">GAME VARIABLE DECLARATIONS</p></div>"
   ]
  },
  {
   "cell_type": "code",
   "execution_count": 2,
   "metadata": {
    "collapsed": true
   },
   "outputs": [],
   "source": [
    "# directions: 0 = up, 1 = right, 2 = down, 3 = left\n",
    "# gameState: 1 = running, 0 = game over\n",
    "gridSize = 10 # 10x10 grid\n",
    "startingBodyLength = 3"
   ]
  },
  {
   "cell_type": "markdown",
   "metadata": {},
   "source": [
    "<div style=\"width: 100%; background-color: #090821; border-radius: 20px; height: 4em; position: relative; left: 0; top: 0;\">\n",
    "<p style=\"color: #21c9ef; font-size: 2em; position: absolute; top: 50%; left: 50%; transform: translate(-50%, -50%)\">CREATE GAME FUNCTIONS</p></div>"
   ]
  },
  {
   "cell_type": "code",
   "execution_count": 3,
   "metadata": {
    "collapsed": true
   },
   "outputs": [],
   "source": [
    "#generate new game state\n",
    "def newGame():\n",
    "    state = {\n",
    "        \"gameState\": 1,\n",
    "        \"justAteFood\": False,\n",
    "        \"turn\": 0,\n",
    "        \"head\": [round(random.uniform(startingBodyLength-1, gridSize-1-startingBodyLength)),\n",
    "                 round(random.uniform(startingBodyLength-1, gridSize-1-startingBodyLength))],\n",
    "        \"direction\": round(random.uniform(0, 3)),\n",
    "    }\n",
    "    body = [state[\"head\"]]\n",
    "    bx, by = 0, 0\n",
    "    if state[\"direction\"]==0:\n",
    "        by = 1\n",
    "    elif state[\"direction\"]==1:\n",
    "        bx = -1\n",
    "    elif state[\"direction\"]==2:\n",
    "        by = -1\n",
    "    elif state[\"direction\"]==3:\n",
    "        bx = 1\n",
    "    for i in range(1, startingBodyLength):\n",
    "        prevBody = body[i-1]\n",
    "        body.append([prevBody[0]+bx, prevBody[1]+by])\n",
    "    state[\"body\"] = body\n",
    "    if state[\"body\"][0]!=state[\"head\"]:\n",
    "        print(\"HEAD IS NOT ON BODY\", state)\n",
    "        sys.exit(0)\n",
    "    \n",
    "    foundGoodFoodStart = False\n",
    "    while not foundGoodFoodStart:\n",
    "        fx = round(random.uniform(startingBodyLength-1, gridSize-1-startingBodyLength))\n",
    "        fy = round(random.uniform(startingBodyLength-1, gridSize-1-startingBodyLength))\n",
    "        badFood = False\n",
    "        for i in range(0, startingBodyLength):\n",
    "            if state[\"body\"][i][0] == fx and state[\"body\"][i][1] == fy:\n",
    "                badFood = True\n",
    "        if not badFood:\n",
    "            state[\"food\"] = [fx, fy]\n",
    "            foundGoodFoodStart = True\n",
    "    return state"
   ]
  },
  {
   "cell_type": "code",
   "execution_count": 4,
   "metadata": {
    "collapsed": true
   },
   "outputs": [],
   "source": [
    "#advance one turn in game, given state and input\n",
    "#inp=-1: left, inp=0: forward, inp=1: right\n",
    "def step(state, inp):\n",
    "    state[\"turn\"] += 1\n",
    "    state[\"direction\"] = (state[\"direction\"]+inp+4)%4 #set new direction\n",
    "    newHeadX, newHeadY = 0, 0\n",
    "    if state[\"direction\"]==0:\n",
    "        newHeadY = -1\n",
    "    elif state[\"direction\"]==1:\n",
    "        newHeadX = 1\n",
    "    elif state[\"direction\"]==2:\n",
    "        newHeadY = 1\n",
    "    elif state[\"direction\"]==3:\n",
    "        newHeadX = -1\n",
    "    newHeadX += state[\"head\"][0]\n",
    "    newHeadY += state[\"head\"][1]\n",
    "    state[\"head\"] = [newHeadX, newHeadY] #set new head\n",
    "    state[\"body\"].insert(0, state[\"head\"]) #add new head to body\n",
    "    if state[\"head\"][0]==state[\"food\"][0] and state[\"head\"][1]==state[\"food\"][1]: #ate food\n",
    "        state[\"justAteFood\"]= True\n",
    "        if len(state[\"body\"])!=gridSize*gridSize: #snake does not fill entire board yet\n",
    "            possibleFoods = []\n",
    "            for i in range(0, gridSize*gridSize): #(x, y) -> x+gridSize*y\n",
    "                possibleFoods.append(i+1) #+1 so 0,0 can also be negative\n",
    "            for i in range(0, len(state[\"body\"])): # i -> (i%gridSize, floor(i/gridSize))\n",
    "                ind = state[\"body\"][i][0]+gridSize*state[\"body\"][i][1]\n",
    "                possibleFoods[ind] *= -1\n",
    "            i = 0\n",
    "            while i<len(possibleFoods):\n",
    "                if possibleFoods[i]<0:\n",
    "                    del possibleFoods[i]\n",
    "#                     possibleFoods.splice(i, 1)\n",
    "                else:\n",
    "                    i += 1\n",
    "            nextFoodInd = random.randint(0, len(possibleFoods)-1)\n",
    "            nextFoodVal = possibleFoods[nextFoodInd]-1\n",
    "            fx = nextFoodVal%gridSize\n",
    "            fy = math.floor(nextFoodVal/gridSize)\n",
    "            state[\"food\"] = [fx, fy]\n",
    "            \n",
    "        else: #snake fills entire board\n",
    "            state[\"gameState\"] = 0\n",
    "    else: #did not eat food\n",
    "        state[\"justAteFood\"]= False\n",
    "        bodyLen = len(state[\"body\"])\n",
    "        state[\"body\"].pop(bodyLen-1) #get rid of last tail\n",
    "    \n",
    "    #check if game over\n",
    "    hx = state[\"head\"][0]\n",
    "    hy = state[\"head\"][1]\n",
    "    if hx<0 or hx >= gridSize or hy<0 or hy >= gridSize: #hit a wall\n",
    "        state[\"gameState\"] = 0\n",
    "    else: #check if ran into self\n",
    "        for i in range(1, len(state[\"body\"])):\n",
    "            if state[\"body\"][i][0]==hx and state[\"body\"][i][1]==hy:\n",
    "                state[\"gameState\"] = 0\n",
    "    \n",
    "    return state"
   ]
  },
  {
   "cell_type": "code",
   "execution_count": 5,
   "metadata": {
    "collapsed": true
   },
   "outputs": [],
   "source": [
    "def steps(state, inps):\n",
    "    si = copy.deepcopy(state)\n",
    "#     si = state.copy()\n",
    "    for i in range(0, len(inps)):\n",
    "        si = step(si, inps[i])\n",
    "        if si[\"gameState\"]==0:\n",
    "            return si\n",
    "    return si"
   ]
  },
  {
   "cell_type": "code",
   "execution_count": 6,
   "metadata": {
    "collapsed": true
   },
   "outputs": [],
   "source": [
    "def visualizeState(state):\n",
    "    grid = [[\"_\" for x in range(gridSize)] for y in range(gridSize)] \n",
    "    grid[state[\"head\"][0]][state[\"head\"][1]] = \"#\"\n",
    "    for i in range(1, len(state[\"body\"])):\n",
    "        try:\n",
    "            grid[state[\"body\"][i][0]][state[\"body\"][i][1]] = \"*\"\n",
    "        except:\n",
    "            print(state)\n",
    "            print(\"=========ERRRORRR==========\")\n",
    "            sys.exit(0)\n",
    "            \n",
    "    grid[state[\"food\"][0]][state[\"food\"][1]] = \"@\"\n",
    "    \n",
    "    for i in range(0, len(grid)):\n",
    "        for j in range(0, len(grid[i])):\n",
    "            print(grid[i][j], end =\"\")\n",
    "        print()"
   ]
  },
  {
   "cell_type": "code",
   "execution_count": 7,
   "metadata": {
    "collapsed": true
   },
   "outputs": [],
   "source": [
    "def isIn(reduState, q_table):\n",
    "    return q_table.get(reduState, -1)"
   ]
  },
  {
   "cell_type": "code",
   "execution_count": 8,
   "metadata": {
    "collapsed": true
   },
   "outputs": [],
   "source": [
    "def visualizeStates(state, inps, foods, speed):\n",
    "    si = copy.deepcopy(state)\n",
    "    cf = 1\n",
    "    for i in range(0, len(inps)):\n",
    "        si = step(si, inps[i])\n",
    "        if si[\"gameState\"]==0:\n",
    "            return\n",
    "        if si[\"justAteFood\"]:\n",
    "            si[\"food\"] = [foods[cf][0], foods[cf][1]]\n",
    "            cf+=1\n",
    "        clear_output(wait=True)\n",
    "        visualizeState(si)\n",
    "        time.sleep(speed)\n",
    "    return"
   ]
  },
  {
   "cell_type": "markdown",
   "metadata": {},
   "source": [
    "<div style=\"width: 100%; background-color: #090821; border-radius: 20px; height: 4em; position: relative; left: 0; top: 0;\">\n",
    "<p style=\"color: #21c9ef; font-size: 2em; position: absolute; top: 50%; left: 50%; transform: translate(-50%, -50%)\">SIMPLIFY STATE TO TUPLE</p></div>"
   ]
  },
  {
   "cell_type": "code",
   "execution_count": 9,
   "metadata": {
    "collapsed": true
   },
   "outputs": [],
   "source": [
    "def isClearStraightAhead(state, hx, hy, d):\n",
    "    aheadX = hx\n",
    "    aheadY = hy\n",
    "    if d == 0:\n",
    "        aheadY -= 1\n",
    "    elif d==1:\n",
    "        aheadX += 1\n",
    "    elif d==2:\n",
    "        aheadY += 1\n",
    "    elif d==3:\n",
    "        aheadX -= 1\n",
    "    \n",
    "    if (aheadX < 0) or (aheadY < 0) or (aheadX>=gridSize) or (aheadY>=gridSize): #about to head into a wall\n",
    "        return 0\n",
    "    \n",
    "    body = state[\"body\"]\n",
    "    for i in range(len(body)):\n",
    "        if (body[i][0]==aheadX) and (body[i][1]==aheadY):\n",
    "            return 0\n",
    "    return 1"
   ]
  },
  {
   "cell_type": "code",
   "execution_count": 10,
   "metadata": {
    "collapsed": true
   },
   "outputs": [],
   "source": [
    "def isClearLeft(state, hx, hy, d):\n",
    "    lx = hx\n",
    "    ly = hy\n",
    "    if d == 0:\n",
    "        lx -= 1\n",
    "    elif d==1:\n",
    "        ly -= 1\n",
    "    elif d==2:\n",
    "        lx += 1\n",
    "    elif d==3:\n",
    "        ly += 1\n",
    "    \n",
    "    if (lx < 0) or (ly < 0) or (lx>=gridSize) or (ly>=gridSize): #wall is to the left\n",
    "        return 0\n",
    "    \n",
    "    body = state[\"body\"]\n",
    "    for i in range(len(body)):\n",
    "        if (body[i][0]==lx) and (body[i][1]==ly):\n",
    "            return 0\n",
    "    return 1"
   ]
  },
  {
   "cell_type": "code",
   "execution_count": 11,
   "metadata": {
    "collapsed": true
   },
   "outputs": [],
   "source": [
    "def isClearRight(state, hx, hy, d):\n",
    "    rx = hx\n",
    "    ry = hy\n",
    "    if d == 0:\n",
    "        rx += 1\n",
    "    elif d==1:\n",
    "        ry += 1\n",
    "    elif d==2:\n",
    "        rx -= 1\n",
    "    elif d==3:\n",
    "        ry -= 1\n",
    "    \n",
    "    if (rx < 0) or (ry < 0) or (rx>=gridSize) or (ry>=gridSize): #wall is to the right\n",
    "        return 0\n",
    "    \n",
    "    body = state[\"body\"]\n",
    "    for i in range(len(body)):\n",
    "        if (body[i][0]==rx) and (body[i][1]==ry):\n",
    "            return 0\n",
    "    return 1"
   ]
  },
  {
   "cell_type": "code",
   "execution_count": 12,
   "metadata": {
    "collapsed": true
   },
   "outputs": [],
   "source": [
    "def getFoodRelatively(hx, hy, d, fx, fy):\n",
    "    vdir = 0\n",
    "    vleft = 0\n",
    "    if d==0:\n",
    "        vdir = np.array([0, -1])\n",
    "        vleft = np.array([-1, 0])\n",
    "    elif d==1:\n",
    "        vdir = np.array([1, 0])\n",
    "        vleft = np.array([0, -1])\n",
    "    elif d==2:\n",
    "        vdir = np.array([0, 1])\n",
    "        vleft = np.array([1, 0])\n",
    "    elif d==3:\n",
    "        vdir = np.array([-1, 0])\n",
    "        vleft = np.array([0, 1])\n",
    "    vdiff = np.array([fx-hx, fy-hy])\n",
    "    cosang = np.dot(vdir, vdiff)/(np.linalg.norm(vdir)*np.linalg.norm(vdiff))\n",
    "    if cosang>0.707: #sqrt(2)/2\n",
    "        return [1, 0, 0]\n",
    "    elif cosang<-0.707: \n",
    "        return [0, 0, 0]\n",
    "    \n",
    "    cosang = np.dot(vleft, vdiff)/(np.linalg.norm(vleft)*np.linalg.norm(vdiff))\n",
    "    if cosang>0.707: #sqrt(2)/2\n",
    "        return [0, 1, 0]\n",
    "    elif cosang<-0.707: \n",
    "        return [0, 0, 1]"
   ]
  },
  {
   "cell_type": "code",
   "execution_count": 13,
   "metadata": {
    "collapsed": true
   },
   "outputs": [],
   "source": [
    "def state2Tuple(state):\n",
    "    hx = state[\"head\"][0]\n",
    "    hy = state[\"head\"][1]\n",
    "    d = state[\"direction\"]\n",
    "    csa = isClearStraightAhead(state, hx, hy, d)\n",
    "    cl = isClearLeft(state, hx, hy, d)    \n",
    "    cr = isClearRight(state, hx, hy, d)\n",
    "    gfr = getFoodRelatively(hx, hy, d, state[\"food\"][0], state[\"food\"][1])\n",
    "    fsa = gfr[0]\n",
    "    fl = gfr[1]\n",
    "    fr = gfr[2]\n",
    "    return str(csa)+str(cl)+str(cr)+str(fsa)+str(fl)+str(fr)"
   ]
  },
  {
   "cell_type": "markdown",
   "metadata": {},
   "source": [
    "<div style=\"width: 100%; background-color: #090821; border-radius: 20px;\">\n",
    "<img src=\"https://us.123rf.com/450wm/rungkhun/rungkhun1709/rungkhun170900377/86295510-plantilla-de-dise%C3%B1o-de-logotipo-de-letra-q-tecnolog%C3%ADa-abstracta-conexi%C3%B3n-de-punto-logotipo-de-vector-de-icon.jpg?ver=6\" style=\"height: 300px\">\n",
    "</div>"
   ]
  },
  {
   "cell_type": "markdown",
   "metadata": {},
   "source": [
    "<div style=\"width: 100%; background-color: #090821; border-radius: 20px; height: 4em; position: relative; left: 0; top: 0;\">\n",
    "<p style=\"color: #21c9ef; font-size: 2em; position: absolute; top: 50%; left: 50%; transform: translate(-50%, -50%)\">Q-TABLE INITIALIZATIONS</p></div>"
   ]
  },
  {
   "cell_type": "code",
   "execution_count": 25,
   "metadata": {
    "collapsed": true
   },
   "outputs": [],
   "source": [
    "def setupQTable(q_table):\n",
    "    for csa in range(0, 2): #clear straight ahead\n",
    "        for cl in range(0, 2): #clear left\n",
    "            for cr in range(0, 2): #clear right\n",
    "                q_table[str(csa)+str(cl)+str(cr)+\"001\"] = [0,0,0]\n",
    "                q_table[str(csa)+str(cl)+str(cr)+\"010\"] = [0,0,0]\n",
    "                q_table[str(csa)+str(cl)+str(cr)+\"100\"] = [0,0,0]\n",
    "                q_table[str(csa)+str(cl)+str(cr)+\"000\"] = [0,0,0]\n",
    "    return q_table"
   ]
  },
  {
   "cell_type": "code",
   "execution_count": 26,
   "metadata": {
    "collapsed": true
   },
   "outputs": [],
   "source": [
    "def helpQTable(q_table):\n",
    "    helpAmount = 50\n",
    "    #when food is unobstructed\n",
    "    q_table['111100'][1] = helpAmount #go straight\n",
    "    q_table['110100'][1] = helpAmount #go straight\n",
    "    q_table['101100'][1] = helpAmount #go straight\n",
    "    q_table['100100'][1] = helpAmount #go straight\n",
    "    q_table['111001'][2] = helpAmount #go right\n",
    "    q_table['101001'][2] = helpAmount #go right\n",
    "    q_table['011001'][2] = helpAmount #go right\n",
    "    q_table['001001'][2] = helpAmount #go right\n",
    "    q_table['111010'][0] = helpAmount #go left\n",
    "    q_table['011010'][0] = helpAmount #go left\n",
    "    q_table['110010'][0] = helpAmount #go left\n",
    "    q_table['010010'][0] = helpAmount #go left\n",
    "    #when only one choice\n",
    "    q_table['010010'][0] = helpAmount\n",
    "    q_table['010001'][0] = helpAmount\n",
    "    q_table['010100'][0] = helpAmount\n",
    "    q_table['100010'][1] = helpAmount\n",
    "    q_table['100001'][1] = helpAmount\n",
    "    q_table['100100'][1] = helpAmount\n",
    "    q_table['001010'][2] = helpAmount\n",
    "    q_table['001001'][2] = helpAmount\n",
    "    q_table['001100'][2] = helpAmount\n",
    "    return q_table"
   ]
  },
  {
   "cell_type": "code",
   "execution_count": 16,
   "metadata": {
    "collapsed": true
   },
   "outputs": [],
   "source": [
    "def readQTable(filename):\n",
    "    with open(filename) as fileobj:\n",
    "        qt = eval(fileobj.read())\n",
    "        for i in qt:\n",
    "            q_table[i] = qt[i]\n",
    "        fileobj.close()"
   ]
  },
  {
   "cell_type": "code",
   "execution_count": 27,
   "metadata": {
    "collapsed": true
   },
   "outputs": [],
   "source": [
    "#q_table[rsi][at+1] = (1-alpha)*q_table[rsi][at+1]+alpha*(rt + gamma*maxFutureQ)\n",
    "def sim(alpha=0.2, gamma=0.8, minEpsilon = 0.005, maxEpsilon = 0.01, numEps = 1000, foodReward=10, stepReward=-2, deathReward=-10, printStats = True, showLastSim = True):\n",
    "    # alpha = 0.2\n",
    "    # gamma = 0.8\n",
    "    # maxEpsilon = 0.01\n",
    "    # minEpsilon = 0.005\n",
    "\n",
    "    # stepReward = -2\n",
    "    # foodReward = 10.0\n",
    "    # deathReward = -10.0\n",
    "\n",
    "    # numEps = 1000\n",
    "    q_table = {}\n",
    "    q_table = setupQTable(q_table)\n",
    "    q_table = helpQTable(q_table)\n",
    "    # readQTable(\"greatqtable_json.txt\")\n",
    "    # print(q_table)\n",
    "    stats = {\n",
    "        \"buckets\": 10,\n",
    "        \"totalEps\": 0,\n",
    "        \"lastBucket\": -1\n",
    "    }\n",
    "    stats[\"bucketSize\"] = numEps/stats[\"buckets\"]\n",
    "    stats[\"totalTurnsLived\"] = [0]*stats[\"buckets\"]\n",
    "    stats[\"totalFoodEaten\"] = [0]*stats[\"buckets\"]\n",
    "    return runSim(alpha, gamma, minEpsilon, maxEpsilon, numEps, foodReward, stepReward, deathReward, printStats, showLastSim, stats, q_table)"
   ]
  },
  {
   "cell_type": "code",
   "execution_count": 28,
   "metadata": {
    "collapsed": true,
    "scrolled": true
   },
   "outputs": [],
   "source": [
    "def runSim(alpha, gamma, minEpsilon, maxEpsilon, numEps, foodReward, stepReward, deathReward, printStats, showLastSim, stats, q_table):\n",
    "    inps = []\n",
    "    foods = []\n",
    "    ssEnd = {}\n",
    "\n",
    "    oldbars = -1\n",
    "    totalRewards = 0\n",
    "    barNumbers = 100\n",
    "\n",
    "    # numEps = 1\n",
    "    for g in range(0, numEps):\n",
    "        epsilon = (1-(g/numEps))*(maxEpsilon-minEpsilon)+minEpsilon\n",
    "        #get stats\n",
    "        if printStats:\n",
    "            bucket = math.floor(g/stats[\"bucketSize\"])\n",
    "            if bucket>stats[\"lastBucket\"]:\n",
    "                stats[\"lastBucket\"] = bucket\n",
    "            stats[\"totalEps\"] += 1\n",
    "        #end stats\n",
    "        startState = newGame()\n",
    "        si = copy.deepcopy(startState)\n",
    "\n",
    "        #==== progress printing =====\n",
    "        if g==numEps-1:\n",
    "            ssEnd = copy.deepcopy(startState)\n",
    "        bars = round(barNumbers*g/numEps)\n",
    "        if bars>oldbars:\n",
    "            oldbars = bars\n",
    "            clear_output(wait=True)\n",
    "            print(\"[\"+(\"=\"*bars)+(\" \"*(barNumbers-bars))+\"]\")\n",
    "        #==== end progress printing =====\n",
    "\n",
    "        while si[\"gameState\"]!=0:\n",
    "            if printStats:\n",
    "                stats[\"totalTurnsLived\"][stats[\"lastBucket\"]]+=1\n",
    "            rsi = state2Tuple(si)\n",
    "            rowSi = isIn(rsi, q_table)\n",
    "\n",
    "            #find q-values of all actions from current state\n",
    "            qLeft = rowSi[0]\n",
    "            qForward = rowSi[1]\n",
    "            qRight = rowSi[2]\n",
    "\n",
    "            #find max q-value\n",
    "            at = 0\n",
    "            if random.uniform(0,1)<epsilon:\n",
    "                at = round(random.uniform(-1, 1))\n",
    "            else:\n",
    "                if qLeft>=qForward and qLeft>=qRight:\n",
    "                    at = -1\n",
    "                elif qForward>=qLeft and qForward>=qRight:\n",
    "                    at = 0\n",
    "                elif qRight>=qLeft and qRight>=qForward:\n",
    "                    at = 1\n",
    "\n",
    "            if g==numEps-1:\n",
    "                inps.append(at)\n",
    "\n",
    "            #find next state with max q-value action\n",
    "            siPlus1 = step(si, at)\n",
    "            sip1hx = siPlus1[\"head\"][0]\n",
    "            sip1hy = siPlus1[\"head\"][1]\n",
    "            maxFutureQ = 0\n",
    "            if 0<=sip1hx<gridSize and 0<=sip1hy<gridSize:\n",
    "                redu_siPlus1 = state2Tuple(siPlus1)\n",
    "                row_redu_siPlus1 = isIn(redu_siPlus1, q_table)\n",
    "                if row_redu_siPlus1!=-1:\n",
    "                    qsil = row_redu_siPlus1[0]\n",
    "                    qsif = row_redu_siPlus1[1]\n",
    "                    qsir = row_redu_siPlus1[2]\n",
    "                    if qsil>=qsif and qsil>=qsir:\n",
    "                        maxFutureQ = qsil\n",
    "                    elif qsif>=qsil and qsif>=qsir:\n",
    "                        maxFutureQ = qsif\n",
    "                    elif qsir>=qsil and qsir>=qsif:\n",
    "                        maxFutureQ = qsir\n",
    "                else: #shouldn't be called\n",
    "                    sys.exit(0)\n",
    "                    console.log(\"you got problems\")\n",
    "\n",
    "            rt = 0\n",
    "            if siPlus1[\"gameState\"]==0:\n",
    "                rt = deathReward\n",
    "            elif siPlus1[\"justAteFood\"]:\n",
    "                rt = foodReward\n",
    "                if printStats:\n",
    "                    stats[\"totalFoodEaten\"][stats[\"lastBucket\"]]+=1\n",
    "            else:\n",
    "                rt = stepReward\n",
    "            if g==numEps-1:\n",
    "                if len(foods)==0 or si[\"food\"][0]!=foods[len(foods)-1][0] or si[\"food\"][1]!=foods[len(foods)-1][1]:\n",
    "                    foods.append([si[\"food\"][0], si[\"food\"][1]])\n",
    "                totalRewards += rt\n",
    "            \n",
    "            q_table[rsi][at+1] = (1-alpha)*q_table[rsi][at+1]+alpha*(rt + gamma*maxFutureQ)\n",
    "            si = siPlus1\n",
    "    if showLastSim:\n",
    "        visualizeStates(copy.deepcopy(ssEnd), inps, foods, 0.2)\n",
    "#     print(totalRewards)\n",
    "    if printStats:\n",
    "        return stats\n",
    "    else:\n",
    "        return\n",
    "#     print(\"Average turns:\", (stats[\"totalTurnsLived\"][stats[\"buckets\"]-1]*stats[\"buckets\"]/stats[\"totalEps\"]))\n",
    "#     print(\"Average food eaten:\", (stats[\"totalFoodEaten\"][stats[\"buckets\"]-1]*stats[\"buckets\"]/stats[\"totalEps\"]))"
   ]
  },
  {
   "cell_type": "markdown",
   "metadata": {},
   "source": [
    "<div style=\"width: 100%; background-color: #090821; border-radius: 20px; height: 4em; position: relative; left: 0; top: 0;\">\n",
    "<p style=\"color: #21c9ef; font-size: 2em; position: absolute; top: 50%; left: 50%; transform: translate(-50%, -50%)\">RUN Q-LEARNING SIM</p></div>"
   ]
  },
  {
   "cell_type": "code",
   "execution_count": 29,
   "metadata": {},
   "outputs": [
    {
     "name": "stdout",
     "output_type": "stream",
     "text": [
      "__**______\n",
      "_*****____\n",
      "_*#***____\n",
      "_*****____\n",
      "___**_____\n",
      "___**_____\n",
      "__________\n",
      "______@___\n",
      "__________\n",
      "__________\n",
      "[5007, 7015, 6707, 6786, 7582, 7446, 6988, 7187, 6760, 7357]\n",
      "[47681, 65421, 62508, 63341, 71949, 68310, 64288, 67168, 61582, 68204]\n",
      "Average food eaten: 14.714\n",
      "Average turns: 136.408\n"
     ]
    }
   ],
   "source": [
    "stats = sim(alpha=0.1, gamma=0.5, numEps = 5000, printStats=True, showLastSim = True)\n",
    "print(stats[\"totalFoodEaten\"])\n",
    "print(stats[\"totalTurnsLived\"])\n",
    "print(\"Average food eaten:\", (stats[\"totalFoodEaten\"][stats[\"buckets\"]-1]*stats[\"buckets\"]/stats[\"totalEps\"]))\n",
    "print(\"Average turns:\", (stats[\"totalTurnsLived\"][stats[\"buckets\"]-1]*stats[\"buckets\"]/stats[\"totalEps\"]))"
   ]
  },
  {
   "cell_type": "code",
   "execution_count": null,
   "metadata": {
    "collapsed": true
   },
   "outputs": [],
   "source": [
    "# f = open(\"greatqtable.txt\",\"w\")\n",
    "# f.write( str(q_table) )\n",
    "# f.close()"
   ]
  },
  {
   "cell_type": "markdown",
   "metadata": {},
   "source": [
    "<div style=\"width: 100%; background-color: #090821; border-radius: 20px;\">\n",
    "<img src=\"https://miro.medium.com/max/1000/0*qSOZARD3hOzJL7Kd.jpg\" style=\"height: 300px\">\n",
    "</div>"
   ]
  },
  {
   "cell_type": "markdown",
   "metadata": {},
   "source": [
    "<div style=\"width: 100%; background-color: #090821; border-radius: 20px; height: 4em; position: relative; left: 0; top: 0;\">\n",
    "<p style=\"color: #21c9ef; font-size: 2em; position: absolute; top: 50%; left: 50%; transform: translate(-50%, -50%)\">DEFINE NEURAL NETWORK CLASS</p></div>"
   ]
  },
  {
   "cell_type": "code",
   "execution_count": 237,
   "metadata": {
    "collapsed": true
   },
   "outputs": [],
   "source": [
    "def sigmoid(x, deriv=False):\n",
    "        if deriv == True:\n",
    "            return x * (1 - x)\n",
    "        return 1 / (1 + np.exp(-x))\n",
    "\n",
    "class NeuralNetwork:\n",
    "    def __init__(self, inputsSize = 6, layers = 2, layerSizes = [4,3], parent=None, fixNN = False, delta=0, epsilon=0):\n",
    "        self.layerSizes = layerSizes\n",
    "        self.inputs  = np.array([[0 for x in range(1)] for y in range(inputsSize)])\n",
    "        self.numLayers = layers\n",
    "        self.weightsByLayer = []\n",
    "        self.layerValues = []\n",
    "        if parent==None:\n",
    "            for i in range(0, layers):\n",
    "                self.layerValues.append([0] * layerSizes[i])\n",
    "                if i==0:\n",
    "                    self.weightsByLayer.append([[random.uniform(-10,10) for x in range(inputsSize)] for y in range(layerSizes[i])])\n",
    "                else:\n",
    "                    self.weightsByLayer.append([[random.uniform(-10,10) for x in range(layerSizes[i-1])] for y in range(layerSizes[i])])\n",
    "        else:\n",
    "            for i in range(0, layers):\n",
    "                self.layerValues.append([0] * layerSizes[i])\n",
    "            self.weightsByLayer = copy.deepcopy(parent.weightsByLayer)\n",
    "            if not fixNN:\n",
    "                for l in range(len(self.weightsByLayer)):\n",
    "                    for x in range(len(self.weightsByLayer[l])):\n",
    "                        for y in range(len(self.weightsByLayer[l][x])):\n",
    "                            if random.uniform(0,1)<epsilon:\n",
    "                                self.weightsByLayer[l][x][y] += random.uniform(-delta/2, delta/2)\n",
    "                \n",
    "        self.weightsByLayer = np.array(self.weightsByLayer)\n",
    "        self.layerValues = np.array(self.layerValues)\n",
    "\n",
    "    def feedForward(self):\n",
    "        for i in range(self.numLayers):\n",
    "            if i==0:\n",
    "                self.layerValues[i] = sigmoid(np.dot(self.inputs, np.transpose(self.weightsByLayer[i])))\n",
    "            else:\n",
    "                self.layerValues[i] = sigmoid(np.dot(self.layerValues[i-1], np.transpose(self.weightsByLayer[i])))\n",
    "\n",
    "    def setInputs(self, inps):\n",
    "        self.inputs = inps\n",
    "\n",
    "    def getHighestOutput(self):\n",
    "        m = self.layerValues[-1][0]\n",
    "        maxIndex = 0\n",
    "        for i in range(self.layerSizes[-1]):\n",
    "            if self.layerValues[-1][i]>m:\n",
    "                m = self.layerValues[-1][i]\n",
    "                maxIndex = i\n",
    "        return maxIndex\n",
    "        \n",
    "    def getAverageReward(self, numEps=5, minReward=-100, foodReward=10, stepReward=-2, deathReward=-10):\n",
    "        totRewards = 0\n",
    "        for i in range(numEps):\n",
    "            totRewards += self.run(minReward, foodReward, stepReward, deathReward)\n",
    "        return totRewards/numEps\n",
    "    \n",
    "    def run(self, minReward=-100, foodReward=10, stepReward=2, deathReward=-10, returnRes = False):\n",
    "        si = newGame()\n",
    "        totalReward = 0\n",
    "        \n",
    "        res = {}\n",
    "        \n",
    "        if returnRes:\n",
    "            res[\"foods\"] = []\n",
    "            res[\"inps\"] = []\n",
    "            res[\"startState\"] = copy.deepcopy(si)\n",
    "            \n",
    "        while si[\"gameState\"]!=0:\n",
    "            t = state2Tuple(si)\n",
    "            self.setInputs(list(map(lambda x: int(x), t)))\n",
    "            self.feedForward()\n",
    "            bestAction = self.getHighestOutput()-1\n",
    "            if returnRes:\n",
    "                if len(res[\"foods\"])==0 or si[\"food\"][0]!=res[\"foods\"][len(res[\"foods\"])-1][0] or si[\"food\"][1]!=res[\"foods\"][len(res[\"foods\"])-1][1]:\n",
    "                        res[\"foods\"].append([si[\"food\"][0], si[\"food\"][1]])\n",
    "                res[\"inps\"].append(bestAction)\n",
    "\n",
    "            siPlus1 = step(si, bestAction)\n",
    "    \n",
    "            reward = 0\n",
    "            if siPlus1[\"gameState\"]==0:\n",
    "                reward = deathReward\n",
    "            elif siPlus1[\"justAteFood\"]:\n",
    "                reward = foodReward\n",
    "            else:\n",
    "                reward = stepReward\n",
    "            totalReward += reward\n",
    "            \n",
    "            if totalReward<minReward:\n",
    "                if returnRes:\n",
    "                    return res\n",
    "                else:\n",
    "                    return totalReward\n",
    "            si = siPlus1\n",
    "        if returnRes:\n",
    "            return res\n",
    "        else:\n",
    "            return totalReward\n",
    "        \n",
    "    def vis(self):\n",
    "        game = self.run(returnRes = True)\n",
    "        visualizeStates(game[\"startState\"], game[\"inps\"], game[\"foods\"], 0.2)\n",
    "    \n",
    "    def __str__(self):\n",
    "        res = \"\"\n",
    "        for i in range(0, len(self.weightsByLayer)):\n",
    "            res += \"Weights \" + str(i) + \" is \" + str(len(self.weightsByLayer[i][0])) + \" by \" + str(len(self.weightsByLayer[i])) + \" and its values are:\\n\"\n",
    "            res += \"\\t\"+str(self.weightsByLayer[i])\n",
    "            res += \"\\n\"\n",
    "        return res"
   ]
  },
  {
   "cell_type": "markdown",
   "metadata": {},
   "source": [
    "<div style=\"width: 100%; background-color: #090821; border-radius: 20px; height: 4em; position: relative; left: 0; top: 0;\">\n",
    "<p style=\"color: #21c9ef; font-size: 2em; position: absolute; top: 50%; left: 50%; transform: translate(-50%, -50%)\">DEFINE EVOLUTION</p></div>"
   ]
  },
  {
   "cell_type": "code",
   "execution_count": 239,
   "metadata": {
    "collapsed": true
   },
   "outputs": [],
   "source": [
    "def evolve(nnlayers = [4, 3], generationSize=50, numGenerations=100, numEpisodesPerSnake=5, minReward=-100, delta=0.5, epsilon=0.5, foodReward=10, stepReward = -2, deathReward = -10):\n",
    "    barNumbers = 100\n",
    "    oldbars = -1\n",
    "    \n",
    "    parentSnake = None\n",
    "    bestRewards = 0\n",
    "    for g in range(numGenerations):\n",
    "        snakes = []\n",
    "\n",
    "        bars = round(barNumbers*g/numGenerations)\n",
    "        if bars>oldbars:\n",
    "            oldbars = bars\n",
    "            clear_output(wait=True)\n",
    "            print(\"[\"+(\"=\"*bars)+(\" \"*(barNumbers-bars))+\"] \"+str(bestRewards))\n",
    "        for i in range(generationSize):\n",
    "            if i==0:\n",
    "                NN = NeuralNetwork(parent=parentSnake, layerSizes = nnlayers, layers = len(nnlayers), fixNN = True, delta=delta, epsilon=epsilon)\n",
    "            else:\n",
    "                NN = NeuralNetwork(parent=parentSnake, layerSizes = nnlayers, layers = len(nnlayers), delta=delta, epsilon=epsilon)\n",
    "                \n",
    "            avgReward = NN.getAverageReward(numEps = numEpisodesPerSnake, foodReward=foodReward, stepReward = stepReward, deathReward=deathReward)\n",
    "            snakes.append({\n",
    "                \"snake\": NN,\n",
    "                \"avgReward\": avgReward,\n",
    "            })\n",
    "\n",
    "        bestSnakeIndex = 0\n",
    "        bestSnakeScore = snakes[0][\"avgReward\"]\n",
    "        for i in range(1, generationSize):\n",
    "            if snakes[i][\"avgReward\"]>bestSnakeScore:\n",
    "                bestSnakeIndex = i\n",
    "                bestSnakeScore = snakes[i][\"avgReward\"]\n",
    "\n",
    "        parentSnake = snakes[bestSnakeIndex][\"snake\"]\n",
    "        bestRewards = bestSnakeScore\n",
    "    \n",
    "    parentSnake.vis()\n",
    "    return parentSnake"
   ]
  },
  {
   "cell_type": "markdown",
   "metadata": {},
   "source": [
    "<div style=\"width: 100%; background-color: #090821; border-radius: 20px; height: 4em; position: relative; left: 0; top: 0;\">\n",
    "<p style=\"color: #21c9ef; font-size: 2em; position: absolute; top: 50%; left: 50%; transform: translate(-50%, -50%)\">RUN EVOLUTION SIMULATION</p></div>"
   ]
  },
  {
   "cell_type": "code",
   "execution_count": 278,
   "metadata": {},
   "outputs": [
    {
     "name": "stdout",
     "output_type": "stream",
     "text": [
      "********__\n",
      "***_______\n",
      "***_______\n",
      "*_________\n",
      "*_________\n",
      "*@________\n",
      "***_______\n",
      "***_______\n",
      "****______\n",
      "#***______\n"
     ]
    }
   ],
   "source": [
    "apexSnake = evolve(generationSize=100, numGenerations=100, epsilon=0.7, delta = 10,\n",
    "                   nnlayers = [5, 3],\n",
    "                   foodReward = 15, stepReward = -1, deathReward = -10)"
   ]
  },
  {
   "cell_type": "code",
   "execution_count": 281,
   "metadata": {},
   "outputs": [
    {
     "name": "stdout",
     "output_type": "stream",
     "text": [
      "__________\n",
      "______**__\n",
      "______**__\n",
      "____****@_\n",
      "____*#**__\n",
      "____***___\n",
      "____*_____\n",
      "____*_____\n",
      "____***___\n",
      "____**____\n"
     ]
    }
   ],
   "source": [
    "apexSnake.vis()"
   ]
  },
  {
   "cell_type": "code",
   "execution_count": 273,
   "metadata": {},
   "outputs": [
    {
     "name": "stdout",
     "output_type": "stream",
     "text": [
      "Weights 0 is 6 by 5 and its values are:\n",
      "\t[[99.26540810950907, -26.264202106016405, -35.27145936691495, -29.685025004471427, -101.2332611967703, -79.6872136961363], [-39.39174448720264, -0.45001987965566403, -7.927608106898638, -1.2987076340114125, 30.45336810741742, -46.610182138632595], [-36.305914402797924, 29.653056834806026, -76.81243214021899, -2.056810523229948, 30.95333075314997, 18.774537563790254], [23.215690189078234, -67.48963891881057, 12.812960348687195, 52.42682893797576, -106.11806246121635, 131.5542647500446], [21.207500943447208, -23.624581294220356, -65.38620919474421, -80.13938542149845, 42.84582540687879, 34.11772513092975]]\n",
      "Weights 1 is 5 by 3 and its values are:\n",
      "\t[[-100.66252588381957, 41.41372531015014, 18.775285348606417, -97.89119656231952, -6.238338646990413], [41.83198055885785, -6.610674406216236, -52.174557113752364, -2.1945949449621835, 12.979157697486098], [-30.58789606426896, -60.447118969404734, -90.98405793216642, 22.850095423920095, -90.41912675508311]]\n",
      "\n"
     ]
    }
   ],
   "source": [
    "print(apexSnake)"
   ]
  }
 ],
 "metadata": {
  "kernelspec": {
   "display_name": "Python 3",
   "language": "python",
   "name": "python3"
  },
  "language_info": {
   "codemirror_mode": {
    "name": "ipython",
    "version": 3
   },
   "file_extension": ".py",
   "mimetype": "text/x-python",
   "name": "python",
   "nbconvert_exporter": "python",
   "pygments_lexer": "ipython3",
   "version": "3.6.3"
  }
 },
 "nbformat": 4,
 "nbformat_minor": 2
}
