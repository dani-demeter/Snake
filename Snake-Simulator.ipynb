{
 "cells": [
  {
   "cell_type": "code",
   "execution_count": 744,
   "metadata": {
    "collapsed": true
   },
   "outputs": [],
   "source": [
    "# given state s, input i, get next state of game\n",
    "# given state s, inputs i, get state after len(i) turns of game\n",
    "# generate start state\n",
    "# visualize state"
   ]
  },
  {
   "cell_type": "code",
   "execution_count": 745,
   "metadata": {},
   "outputs": [],
   "source": [
    "# IMPORTS #\n",
    "\n",
    "import json\n",
    "import random\n",
    "from IPython.display import clear_output\n",
    "import time\n",
    "import sys\n",
    "import copy"
   ]
  },
  {
   "cell_type": "code",
   "execution_count": 746,
   "metadata": {
    "collapsed": true
   },
   "outputs": [],
   "source": [
    "# VARIABLE DECLARATIONS #\n",
    "\n",
    "# directions: 0 = up, 1 = right, 2 = down, 3 = left\n",
    "# gameState: 1 = running, 0 = game over\n",
    "gridSize = 10 # 10x10 grid\n",
    "startingBodyLength = 3"
   ]
  },
  {
   "cell_type": "code",
   "execution_count": 747,
   "metadata": {
    "collapsed": true
   },
   "outputs": [],
   "source": [
    "#generate new game state\n",
    "def newGame():\n",
    "    state = {\n",
    "        \"gameState\": 1,\n",
    "        \"justAteFood\": False,\n",
    "        \"turn\": 0,\n",
    "        \"head\": [round(random.uniform(startingBodyLength-1, gridSize-1-startingBodyLength)),\n",
    "                 round(random.uniform(startingBodyLength-1, gridSize-1-startingBodyLength))],\n",
    "        \"direction\": round(random.uniform(0, 3)),\n",
    "    }\n",
    "    body = [state[\"head\"]]\n",
    "    bx, by = 0, 0\n",
    "    if state[\"direction\"]==0:\n",
    "        by = 1\n",
    "    elif state[\"direction\"]==1:\n",
    "        bx = -1\n",
    "    elif state[\"direction\"]==2:\n",
    "        by = -1\n",
    "    elif state[\"direction\"]==3:\n",
    "        bx = 1\n",
    "    for i in range(1, startingBodyLength):\n",
    "        prevBody = body[i-1]\n",
    "        body.append([prevBody[0]+bx, prevBody[1]+by])\n",
    "    state[\"body\"] = body\n",
    "    if state[\"body\"][0]!=state[\"head\"]:\n",
    "        print(\"HEAD IS NOT ON BODY\", state)\n",
    "        sys.exit(0)\n",
    "    \n",
    "    foundGoodFoodStart = False\n",
    "    while not foundGoodFoodStart:\n",
    "        fx = round(random.uniform(startingBodyLength-1, gridSize-1-startingBodyLength))\n",
    "        fy = round(random.uniform(startingBodyLength-1, gridSize-1-startingBodyLength))\n",
    "        badFood = False\n",
    "        for i in range(0, startingBodyLength):\n",
    "            if state[\"body\"][i][0] == fx and state[\"body\"][i][1] == fy:\n",
    "                badFood = True\n",
    "        if not badFood:\n",
    "            state[\"food\"] = [fx, fy]\n",
    "            foundGoodFoodStart = True\n",
    "    return state"
   ]
  },
  {
   "cell_type": "code",
   "execution_count": 748,
   "metadata": {
    "collapsed": true
   },
   "outputs": [],
   "source": [
    "#advance one turn in game, given state and input\n",
    "#inp=-1: left, inp=0: forward, inp=1: right\n",
    "def step(state, inp):\n",
    "    state[\"turn\"] += 1\n",
    "    state[\"direction\"] = (state[\"direction\"]+inp+4)%4 #set new direction\n",
    "    newHeadX, newHeadY = 0, 0\n",
    "    if state[\"direction\"]==0:\n",
    "        newHeadY = -1\n",
    "    elif state[\"direction\"]==1:\n",
    "        newHeadX = 1\n",
    "    elif state[\"direction\"]==2:\n",
    "        newHeadY = 1\n",
    "    elif state[\"direction\"]==3:\n",
    "        newHeadX = -1\n",
    "    newHeadX += state[\"head\"][0]\n",
    "    newHeadY += state[\"head\"][1]\n",
    "    state[\"head\"] = [newHeadX, newHeadY] #set new head\n",
    "    state[\"body\"].insert(0, state[\"head\"]) #add new head to body\n",
    "    if state[\"head\"][0]==state[\"food\"][0] and state[\"head\"][1]==state[\"food\"][1]: #ate food\n",
    "        state[\"justAteFood\"]= True\n",
    "        if len(state[\"body\"])!=gridSize*gridSize: #snake does not fill entire board yet\n",
    "            foundGoodFoodStart = False\n",
    "            while not foundGoodFoodStart: #create new food\n",
    "                fx = round(random.uniform(startingBodyLength-1, gridSize-1-startingBodyLength))\n",
    "                fy = round(random.uniform(startingBodyLength-1, gridSize-1-startingBodyLength))\n",
    "                badFood = False\n",
    "                for i in range(0, startingBodyLength):\n",
    "                    if state[\"body\"][i][0] == fx and state[\"body\"][i][1] == fy:\n",
    "                        badFood = True\n",
    "                if not badFood:\n",
    "                    state[\"food\"] = [fx, fy]\n",
    "                    foundGoodFoodStart = True\n",
    "        else: #snake fills entire board\n",
    "            state[\"gameState\"] = 0\n",
    "    else: #did not eat food\n",
    "        state[\"justAteFood\"]= False\n",
    "        bodyLen = len(state[\"body\"])\n",
    "        state[\"body\"].pop(bodyLen-1) #get rid of last tail\n",
    "    \n",
    "    #check if game over\n",
    "    hx = state[\"head\"][0]\n",
    "    hy = state[\"head\"][1]\n",
    "    if hx<0 or hx >= gridSize or hy<0 or hy >= gridSize: #hit a wall\n",
    "        state[\"gameState\"] = 0\n",
    "    else: #check if ran into self\n",
    "        for i in range(1, len(state[\"body\"])):\n",
    "            if state[\"body\"][i][0]==hx and state[\"body\"][i][1]==hy:\n",
    "                state[\"gameState\"] = 0\n",
    "    \n",
    "    return state"
   ]
  },
  {
   "cell_type": "code",
   "execution_count": 749,
   "metadata": {
    "collapsed": true
   },
   "outputs": [],
   "source": [
    "def steps(state, inps):\n",
    "    si = state.copy()\n",
    "    for i in range(0, len(inps)):\n",
    "        si = step(si, inps[i])\n",
    "        if si[\"gameState\"]==0:\n",
    "            return si\n",
    "    return si"
   ]
  },
  {
   "cell_type": "code",
   "execution_count": 750,
   "metadata": {
    "collapsed": true
   },
   "outputs": [],
   "source": [
    "def visualizeState(state):\n",
    "    grid = [[\"_\" for x in range(gridSize)] for y in range(gridSize)] \n",
    "    grid[state[\"head\"][0]][state[\"head\"][1]] = \"#\"\n",
    "    for i in range(1, len(state[\"body\"])):\n",
    "        try:\n",
    "            grid[state[\"body\"][i][0]][state[\"body\"][i][1]] = \"*\"\n",
    "        except:\n",
    "            print(state)\n",
    "            print(\"=========ERRRORRR==========\")\n",
    "            sys.exit(0)\n",
    "            \n",
    "    grid[state[\"food\"][0]][state[\"food\"][1]] = \"@\"\n",
    "    \n",
    "    for i in range(0, len(grid)):\n",
    "        for j in range(0, len(grid[i])):\n",
    "            print(grid[i][j], end =\"\")\n",
    "        print()"
   ]
  },
  {
   "cell_type": "code",
   "execution_count": 751,
   "metadata": {
    "collapsed": true
   },
   "outputs": [],
   "source": [
    "def visualizeSteps(state, inps, speed):\n",
    "    si = state.copy()\n",
    "    for i in range(0, len(inps)):\n",
    "        si = step(si, inps[i])\n",
    "        if si[\"gameState\"]==0:\n",
    "            return\n",
    "        clear_output(wait=True)\n",
    "        visualizeState(si)\n",
    "        time.sleep(speed)\n",
    "    return"
   ]
  },
  {
   "cell_type": "code",
   "execution_count": 752,
   "metadata": {
    "collapsed": true
   },
   "outputs": [],
   "source": [
    "def reduce(state):\n",
    "    res = 0\n",
    "    res += state[\"head\"][0]\n",
    "    res += state[\"head\"][1]*10\n",
    "    res += state[\"food\"][0]*100\n",
    "    res += state[\"food\"][1]*1000\n",
    "    strres = str(res)\n",
    "    if len(strres)!=4:\n",
    "        print(strres)\n",
    "    return res"
   ]
  },
  {
   "cell_type": "code",
   "execution_count": 753,
   "metadata": {},
   "outputs": [],
   "source": [
    "def isIn(reduState, q_table):\n",
    "    return q_table.get(reduState, -1)\n",
    "#     for i in range(0, len(q_table)):\n",
    "#         if q_table[i][0]==reduState:\n",
    "#             return i\n",
    "#     return -1"
   ]
  },
  {
   "cell_type": "code",
   "execution_count": 754,
   "metadata": {
    "collapsed": true
   },
   "outputs": [],
   "source": [
    "alpha = 0.5\n",
    "gamma = 0.3\n",
    "stepReward = -0.1\n",
    "foodReward = 1\n",
    "deathReward = -1\n",
    "\n",
    "numEps = 1000\n",
    "q_table = {}"
   ]
  },
  {
   "cell_type": "code",
   "execution_count": 755,
   "metadata": {},
   "outputs": [
    {
     "name": "stdout",
     "output_type": "stream",
     "text": [
      "[=                   ]\n"
     ]
    },
    {
     "ename": "KeyboardInterrupt",
     "evalue": "",
     "output_type": "error",
     "traceback": [
      "\u001b[0;31m---------------------------------------------------------------------------\u001b[0m",
      "\u001b[0;31mKeyboardInterrupt\u001b[0m                         Traceback (most recent call last)",
      "\u001b[0;32m<ipython-input-755-f6beacbca4d3>\u001b[0m in \u001b[0;36m<module>\u001b[0;34m()\u001b[0m\n\u001b[1;32m     44\u001b[0m \u001b[0;34m\u001b[0m\u001b[0m\n\u001b[1;32m     45\u001b[0m         \u001b[0;31m#find next state with max q-value action\u001b[0m\u001b[0;34m\u001b[0m\u001b[0;34m\u001b[0m\u001b[0m\n\u001b[0;32m---> 46\u001b[0;31m         \u001b[0msiPlus1\u001b[0m \u001b[0;34m=\u001b[0m \u001b[0mstep\u001b[0m\u001b[0;34m(\u001b[0m\u001b[0mcopy\u001b[0m\u001b[0;34m.\u001b[0m\u001b[0mdeepcopy\u001b[0m\u001b[0;34m(\u001b[0m\u001b[0msi\u001b[0m\u001b[0;34m)\u001b[0m\u001b[0;34m,\u001b[0m \u001b[0mat\u001b[0m\u001b[0;34m)\u001b[0m\u001b[0;34m\u001b[0m\u001b[0m\n\u001b[0m        \u001b[0;36mglobal\u001b[0m \u001b[0;36msiPlus1\u001b[0m \u001b[0;34m= {'gameState': 1, 'justAteFood': False, 'turn': 202442, 'head': [3, 4], 'direction': 0, 'body': [[3, 4], [3, 5], [2, 5]], 'food': [5, 5]}\u001b[0m\u001b[0;34m\n        \u001b[0m\u001b[0;36mglobal\u001b[0m \u001b[0;36mstep\u001b[0m \u001b[0;34m= <function step at 0x10a1ffbf8>\u001b[0m\u001b[0;34m\n        \u001b[0m\u001b[0;36mglobal\u001b[0m \u001b[0;36mcopy.deepcopy\u001b[0m \u001b[0;34m= <function deepcopy at 0x10790b378>\u001b[0m\u001b[0;34m\n        \u001b[0m\u001b[0;36mglobal\u001b[0m \u001b[0;36msi\u001b[0m \u001b[0;34m= {'gameState': 1, 'justAteFood': False, 'turn': 202442, 'head': [3, 4], 'direction': 0, 'body': [[3, 4], [3, 5], [2, 5]], 'food': [5, 5]}\u001b[0m\u001b[0;34m\n        \u001b[0m\u001b[0;36mglobal\u001b[0m \u001b[0;36mat\u001b[0m \u001b[0;34m= -1\u001b[0m\n\u001b[1;32m     47\u001b[0m \u001b[0;31m#         siPlus1 = step(si.copy(), at)\u001b[0m\u001b[0;34m\u001b[0m\u001b[0;34m\u001b[0m\u001b[0m\n\u001b[1;32m     48\u001b[0m         \u001b[0msip1hx\u001b[0m \u001b[0;34m=\u001b[0m \u001b[0msiPlus1\u001b[0m\u001b[0;34m[\u001b[0m\u001b[0;34m\"head\"\u001b[0m\u001b[0;34m]\u001b[0m\u001b[0;34m[\u001b[0m\u001b[0;36m0\u001b[0m\u001b[0;34m]\u001b[0m\u001b[0;34m\u001b[0m\u001b[0m\n",
      "\u001b[0;32m~/anaconda3/lib/python3.6/copy.py\u001b[0m in \u001b[0;36mdeepcopy\u001b[0;34m(x={'body': [[3, 4], [3, 5], [2, 5]], 'direction': 0, 'food': [5, 5], 'gameState': 1, 'head': [3, 4], 'justAteFood': False, 'turn': 202442}, memo={4462397576: [2, 5], 4464147080: [5, 5], 4467412136: {'body': [[3, 4], [3, 5], [2, 5]], 'direction': 0, 'gameState': 1, 'head': [3, 4], 'justAteFood': False, 'turn': 202442}, 4467566200: [[3, 4], [3, 5], [2, 5], [[3, 4], [3, 5], [2, 5]], [5, 5]], 4467583560: [3, 4], 4467584840: [[3, 4], [3, 5], [2, 5]], 4467584904: [3, 5]}, _nil=[])\u001b[0m\n\u001b[1;32m    148\u001b[0m     \u001b[0mcopier\u001b[0m \u001b[0;34m=\u001b[0m \u001b[0m_deepcopy_dispatch\u001b[0m\u001b[0;34m.\u001b[0m\u001b[0mget\u001b[0m\u001b[0;34m(\u001b[0m\u001b[0mcls\u001b[0m\u001b[0;34m)\u001b[0m\u001b[0;34m\u001b[0m\u001b[0m\n\u001b[1;32m    149\u001b[0m     \u001b[0;32mif\u001b[0m \u001b[0mcopier\u001b[0m\u001b[0;34m:\u001b[0m\u001b[0;34m\u001b[0m\u001b[0m\n\u001b[0;32m--> 150\u001b[0;31m         \u001b[0my\u001b[0m \u001b[0;34m=\u001b[0m \u001b[0mcopier\u001b[0m\u001b[0;34m(\u001b[0m\u001b[0mx\u001b[0m\u001b[0;34m,\u001b[0m \u001b[0mmemo\u001b[0m\u001b[0;34m)\u001b[0m\u001b[0;34m\u001b[0m\u001b[0m\n\u001b[0m        \u001b[0;36my\u001b[0m \u001b[0;34m= []\u001b[0m\u001b[0;34m\n        \u001b[0m\u001b[0;36mcopier\u001b[0m \u001b[0;34m= <function _deepcopy_dict at 0x10790b598>\u001b[0m\u001b[0;34m\n        \u001b[0m\u001b[0;36mx\u001b[0m \u001b[0;34m= {'gameState': 1, 'justAteFood': False, 'turn': 202442, 'head': [3, 4], 'direction': 0, 'body': [[3, 4], [3, 5], [2, 5]], 'food': [5, 5]}\u001b[0m\u001b[0;34m\n        \u001b[0m\u001b[0;36mmemo\u001b[0m \u001b[0;34m= {4467412136: {'gameState': 1, 'justAteFood': False, 'turn': 202442, 'head': [3, 4], 'direction': 0, 'body': [[3, 4], [3, 5], [2, 5]]}, 4467583560: [3, 4], 4467566200: [[3, 4], [3, 5], [2, 5], [[3, 4], [3, 5], [2, 5]], [5, 5]], 4467584840: [[3, 4], [3, 5], [2, 5]], 4467584904: [3, 5], 4462397576: [2, 5], 4464147080: [5, 5]}\u001b[0m\n\u001b[1;32m    151\u001b[0m     \u001b[0;32melse\u001b[0m\u001b[0;34m:\u001b[0m\u001b[0;34m\u001b[0m\u001b[0m\n\u001b[1;32m    152\u001b[0m         \u001b[0;32mtry\u001b[0m\u001b[0;34m:\u001b[0m\u001b[0;34m\u001b[0m\u001b[0m\n",
      "\u001b[0;32m~/anaconda3/lib/python3.6/copy.py\u001b[0m in \u001b[0;36m_deepcopy_dict\u001b[0;34m(x={'body': [[3, 4], [3, 5], [2, 5]], 'direction': 0, 'food': [5, 5], 'gameState': 1, 'head': [3, 4], 'justAteFood': False, 'turn': 202442}, memo={4462397576: [2, 5], 4464147080: [5, 5], 4467412136: {'body': [[3, 4], [3, 5], [2, 5]], 'direction': 0, 'gameState': 1, 'head': [3, 4], 'justAteFood': False, 'turn': 202442}, 4467566200: [[3, 4], [3, 5], [2, 5], [[3, 4], [3, 5], [2, 5]], [5, 5]], 4467583560: [3, 4], 4467584840: [[3, 4], [3, 5], [2, 5]], 4467584904: [3, 5]}, deepcopy=<function deepcopy>)\u001b[0m\n\u001b[1;32m    238\u001b[0m     \u001b[0mmemo\u001b[0m\u001b[0;34m[\u001b[0m\u001b[0mid\u001b[0m\u001b[0;34m(\u001b[0m\u001b[0mx\u001b[0m\u001b[0;34m)\u001b[0m\u001b[0;34m]\u001b[0m \u001b[0;34m=\u001b[0m \u001b[0my\u001b[0m\u001b[0;34m\u001b[0m\u001b[0m\n\u001b[1;32m    239\u001b[0m     \u001b[0;32mfor\u001b[0m \u001b[0mkey\u001b[0m\u001b[0;34m,\u001b[0m \u001b[0mvalue\u001b[0m \u001b[0;32min\u001b[0m \u001b[0mx\u001b[0m\u001b[0;34m.\u001b[0m\u001b[0mitems\u001b[0m\u001b[0;34m(\u001b[0m\u001b[0;34m)\u001b[0m\u001b[0;34m:\u001b[0m\u001b[0;34m\u001b[0m\u001b[0m\n\u001b[0;32m--> 240\u001b[0;31m         \u001b[0my\u001b[0m\u001b[0;34m[\u001b[0m\u001b[0mdeepcopy\u001b[0m\u001b[0;34m(\u001b[0m\u001b[0mkey\u001b[0m\u001b[0;34m,\u001b[0m \u001b[0mmemo\u001b[0m\u001b[0;34m)\u001b[0m\u001b[0;34m]\u001b[0m \u001b[0;34m=\u001b[0m \u001b[0mdeepcopy\u001b[0m\u001b[0;34m(\u001b[0m\u001b[0mvalue\u001b[0m\u001b[0;34m,\u001b[0m \u001b[0mmemo\u001b[0m\u001b[0;34m)\u001b[0m\u001b[0;34m\u001b[0m\u001b[0m\n\u001b[0m        \u001b[0;36my\u001b[0m \u001b[0;34m= {'gameState': 1, 'justAteFood': False, 'turn': 202442, 'head': [3, 4], 'direction': 0, 'body': [[3, 4], [3, 5], [2, 5]]}\u001b[0m\u001b[0;34m\n        \u001b[0m\u001b[0;36mdeepcopy\u001b[0m \u001b[0;34m= <function deepcopy at 0x10790b378>\u001b[0m\u001b[0;34m\n        \u001b[0m\u001b[0;36mkey\u001b[0m \u001b[0;34m= 'food'\u001b[0m\u001b[0;34m\n        \u001b[0m\u001b[0;36mmemo\u001b[0m \u001b[0;34m= {4467412136: {'gameState': 1, 'justAteFood': False, 'turn': 202442, 'head': [3, 4], 'direction': 0, 'body': [[3, 4], [3, 5], [2, 5]]}, 4467583560: [3, 4], 4467566200: [[3, 4], [3, 5], [2, 5], [[3, 4], [3, 5], [2, 5]], [5, 5]], 4467584840: [[3, 4], [3, 5], [2, 5]], 4467584904: [3, 5], 4462397576: [2, 5], 4464147080: [5, 5]}\u001b[0m\u001b[0;34m\n        \u001b[0m\u001b[0;36mvalue\u001b[0m \u001b[0;34m= [5, 5]\u001b[0m\n\u001b[1;32m    241\u001b[0m     \u001b[0;32mreturn\u001b[0m \u001b[0my\u001b[0m\u001b[0;34m\u001b[0m\u001b[0m\n\u001b[1;32m    242\u001b[0m \u001b[0md\u001b[0m\u001b[0;34m[\u001b[0m\u001b[0mdict\u001b[0m\u001b[0;34m]\u001b[0m \u001b[0;34m=\u001b[0m \u001b[0m_deepcopy_dict\u001b[0m\u001b[0;34m\u001b[0m\u001b[0m\n",
      "\u001b[0;31mKeyboardInterrupt\u001b[0m: "
     ]
    }
   ],
   "source": [
    "inps = []\n",
    "ssEnd = {}\n",
    "# q_table = [[reduce(startState.copy()), 0, 0, 0]] #[reduced State, q_left, q_forward, q_right]\n",
    "\n",
    "print(\"[                    ]\")\n",
    "oldbars = 0\n",
    "\n",
    "for g in range(0, numEps):\n",
    "    startState = newGame()\n",
    "    si = copy.deepcopy(startState)\n",
    "#     si = startState.copy()\n",
    "    rsi = reduce(si)\n",
    "    if isIn(rsi, q_table) == -1:\n",
    "        q_table[rsi] = [0, 0, 0]\n",
    "    #==== progress printing =====\n",
    "    if g==numEps-1:\n",
    "        ssEnd = copy.deepcopy(startState)\n",
    "    bars = round(20*g/numEps)\n",
    "    if bars>oldbars:\n",
    "        oldbars = bars\n",
    "        clear_output(wait=True)\n",
    "        print(\"[\"+(\"=\"*bars)+(\" \"*(20-bars))+\"]\")\n",
    "    #==== end progress printing =====\n",
    "    \n",
    "    while si[\"gameState\"]!=0:\n",
    "        rowSi = isIn(rsi, q_table)\n",
    "\n",
    "        #find q-values of all actions from current state\n",
    "        qLeft = rowSi[0]\n",
    "        qForward = rowSi[1]\n",
    "        qRight = rowSi[2]\n",
    "\n",
    "        #find max q-value\n",
    "        at = 0\n",
    "        if qLeft>=qForward and qLeft>=qRight:\n",
    "            at = -1\n",
    "        elif qForward>=qLeft and qForward>=qRight:\n",
    "            at = 0\n",
    "        elif qRight>=qLeft and qRight>=qForward:\n",
    "            at = 1\n",
    "        \n",
    "        if g==numEps-1:\n",
    "            inps.append(at)\n",
    "        \n",
    "        #find next state with max q-value action\n",
    "        siPlus1 = step(copy.deepcopy(si), at)\n",
    "#         siPlus1 = step(si.copy(), at)\n",
    "        sip1hx = siPlus1[\"head\"][0]\n",
    "        sip1hy = siPlus1[\"head\"][1]\n",
    "        maxFutureQ = 0\n",
    "        if 0<=sip1hx<gridSize and 0<=sip1hy<gridSize:\n",
    "            redu_siPlus1 = reduce(siPlus1)\n",
    "            row_redu_siPlus1 = isIn(redu_siPlus1, q_table)\n",
    "            if row_redu_siPlus1!=-1:\n",
    "                qsil = row_redu_siPlus1[0]\n",
    "                qsif = row_redu_siPlus1[1]\n",
    "                qsir = row_redu_siPlus1[2]\n",
    "                if qsil>=qsif and qsil>=qsir:\n",
    "                    maxFutureQ = qsil\n",
    "                elif qsif>=qsil and qsif>=qsir:\n",
    "                    maxFutureQ = qsif\n",
    "                elif qsir>=qsil and qsir>=qsif:\n",
    "                    maxFutureQ = qsir\n",
    "            else:\n",
    "                q_table[redu_siPlus1] = [0, 0, 0]\n",
    "\n",
    "        rt = 0\n",
    "        if siPlus1[\"gameState\"]==0:\n",
    "            rt = deathReward\n",
    "        elif siPlus1[\"justAteFood\"]:\n",
    "            rt = foodReward\n",
    "        else:\n",
    "            rt = stepReward\n",
    "\n",
    "        q_table[rsi][at+1] = (1-alpha)*q_table[rsi][at+1]+alpha*(rt + gamma*maxFutureQ)\n",
    "\n",
    "        si = siPlus1\n",
    "visualizeSteps(ssEnd, inps, 0.25)"
   ]
  }
 ],
 "metadata": {
  "kernelspec": {
   "display_name": "Python 3",
   "language": "python",
   "name": "python3"
  },
  "language_info": {
   "codemirror_mode": {
    "name": "ipython",
    "version": 3
   },
   "file_extension": ".py",
   "mimetype": "text/x-python",
   "name": "python",
   "nbconvert_exporter": "python",
   "pygments_lexer": "ipython3",
   "version": "3.6.3"
  }
 },
 "nbformat": 4,
 "nbformat_minor": 2
}
