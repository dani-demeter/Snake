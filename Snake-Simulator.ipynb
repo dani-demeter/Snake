{
 "cells": [
  {
   "cell_type": "code",
   "execution_count": 219,
   "metadata": {
    "collapsed": true
   },
   "outputs": [],
   "source": [
    "# given state s, input i, get next state of game\n",
    "# given state s, inputs i, get state after len(i) turns of game\n",
    "# generate start state\n",
    "# visualize state"
   ]
  },
  {
   "cell_type": "code",
   "execution_count": 220,
   "metadata": {
    "collapsed": true
   },
   "outputs": [],
   "source": [
    "# IMPORTS #\n",
    "\n",
    "import json\n",
    "import random\n",
    "from IPython.display import clear_output\n",
    "import time\n",
    "import sys\n",
    "import copy\n",
    "import numpy as np"
   ]
  },
  {
   "cell_type": "code",
   "execution_count": 221,
   "metadata": {
    "collapsed": true
   },
   "outputs": [],
   "source": [
    "# VARIABLE DECLARATIONS #\n",
    "\n",
    "# directions: 0 = up, 1 = right, 2 = down, 3 = left\n",
    "# gameState: 1 = running, 0 = game over\n",
    "gridSize = 10 # 10x10 grid\n",
    "startingBodyLength = 3"
   ]
  },
  {
   "cell_type": "code",
   "execution_count": 222,
   "metadata": {
    "collapsed": true
   },
   "outputs": [],
   "source": [
    "#generate new game state\n",
    "def newGame():\n",
    "    state = {\n",
    "        \"gameState\": 1,\n",
    "        \"justAteFood\": False,\n",
    "        \"turn\": 0,\n",
    "        \"head\": [round(random.uniform(startingBodyLength-1, gridSize-1-startingBodyLength)),\n",
    "                 round(random.uniform(startingBodyLength-1, gridSize-1-startingBodyLength))],\n",
    "        \"direction\": round(random.uniform(0, 3)),\n",
    "    }\n",
    "    body = [state[\"head\"]]\n",
    "    bx, by = 0, 0\n",
    "    if state[\"direction\"]==0:\n",
    "        by = 1\n",
    "    elif state[\"direction\"]==1:\n",
    "        bx = -1\n",
    "    elif state[\"direction\"]==2:\n",
    "        by = -1\n",
    "    elif state[\"direction\"]==3:\n",
    "        bx = 1\n",
    "    for i in range(1, startingBodyLength):\n",
    "        prevBody = body[i-1]\n",
    "        body.append([prevBody[0]+bx, prevBody[1]+by])\n",
    "    state[\"body\"] = body\n",
    "    if state[\"body\"][0]!=state[\"head\"]:\n",
    "        print(\"HEAD IS NOT ON BODY\", state)\n",
    "        sys.exit(0)\n",
    "    \n",
    "    foundGoodFoodStart = False\n",
    "    while not foundGoodFoodStart:\n",
    "        fx = round(random.uniform(startingBodyLength-1, gridSize-1-startingBodyLength))\n",
    "        fy = round(random.uniform(startingBodyLength-1, gridSize-1-startingBodyLength))\n",
    "        badFood = False\n",
    "        for i in range(0, startingBodyLength):\n",
    "            if state[\"body\"][i][0] == fx and state[\"body\"][i][1] == fy:\n",
    "                badFood = True\n",
    "        if not badFood:\n",
    "            state[\"food\"] = [fx, fy]\n",
    "            foundGoodFoodStart = True\n",
    "    return state"
   ]
  },
  {
   "cell_type": "code",
   "execution_count": 223,
   "metadata": {
    "collapsed": true
   },
   "outputs": [],
   "source": [
    "#advance one turn in game, given state and input\n",
    "#inp=-1: left, inp=0: forward, inp=1: right\n",
    "def step(state, inp):\n",
    "    state[\"turn\"] += 1\n",
    "    state[\"direction\"] = (state[\"direction\"]+inp+4)%4 #set new direction\n",
    "    newHeadX, newHeadY = 0, 0\n",
    "    if state[\"direction\"]==0:\n",
    "        newHeadY = -1\n",
    "    elif state[\"direction\"]==1:\n",
    "        newHeadX = 1\n",
    "    elif state[\"direction\"]==2:\n",
    "        newHeadY = 1\n",
    "    elif state[\"direction\"]==3:\n",
    "        newHeadX = -1\n",
    "    newHeadX += state[\"head\"][0]\n",
    "    newHeadY += state[\"head\"][1]\n",
    "    state[\"head\"] = [newHeadX, newHeadY] #set new head\n",
    "    state[\"body\"].insert(0, state[\"head\"]) #add new head to body\n",
    "    if state[\"head\"][0]==state[\"food\"][0] and state[\"head\"][1]==state[\"food\"][1]: #ate food\n",
    "        state[\"justAteFood\"]= True\n",
    "        if len(state[\"body\"])!=gridSize*gridSize: #snake does not fill entire board yet\n",
    "            foundGoodFoodStart = False\n",
    "            while not foundGoodFoodStart: #create new food\n",
    "                fx = round(random.uniform(startingBodyLength-1, gridSize-1-startingBodyLength))\n",
    "                fy = round(random.uniform(startingBodyLength-1, gridSize-1-startingBodyLength))\n",
    "                badFood = False\n",
    "                for i in range(0, len(state[\"body\"])):\n",
    "                    if state[\"body\"][i][0] == fx and state[\"body\"][i][1] == fy:\n",
    "                        badFood = True\n",
    "                if not badFood:\n",
    "                    state[\"food\"] = [fx, fy]\n",
    "                    foundGoodFoodStart = True\n",
    "        else: #snake fills entire board\n",
    "            state[\"gameState\"] = 0\n",
    "    else: #did not eat food\n",
    "        state[\"justAteFood\"]= False\n",
    "        bodyLen = len(state[\"body\"])\n",
    "        state[\"body\"].pop(bodyLen-1) #get rid of last tail\n",
    "    \n",
    "    #check if game over\n",
    "    hx = state[\"head\"][0]\n",
    "    hy = state[\"head\"][1]\n",
    "    if hx<0 or hx >= gridSize or hy<0 or hy >= gridSize: #hit a wall\n",
    "        state[\"gameState\"] = 0\n",
    "    else: #check if ran into self\n",
    "        for i in range(1, len(state[\"body\"])):\n",
    "            if state[\"body\"][i][0]==hx and state[\"body\"][i][1]==hy:\n",
    "                state[\"gameState\"] = 0\n",
    "    \n",
    "    return state"
   ]
  },
  {
   "cell_type": "code",
   "execution_count": 224,
   "metadata": {
    "collapsed": true
   },
   "outputs": [],
   "source": [
    "def steps(state, inps):\n",
    "    si = copy.deepcopy(state)\n",
    "#     si = state.copy()\n",
    "    for i in range(0, len(inps)):\n",
    "        si = step(si, inps[i])\n",
    "        if si[\"gameState\"]==0:\n",
    "            return si\n",
    "    return si"
   ]
  },
  {
   "cell_type": "code",
   "execution_count": 225,
   "metadata": {
    "collapsed": true
   },
   "outputs": [],
   "source": [
    "def visualizeState(state):\n",
    "    grid = [[\"_\" for x in range(gridSize)] for y in range(gridSize)] \n",
    "    grid[state[\"head\"][0]][state[\"head\"][1]] = \"#\"\n",
    "    for i in range(1, len(state[\"body\"])):\n",
    "        try:\n",
    "            grid[state[\"body\"][i][0]][state[\"body\"][i][1]] = \"*\"\n",
    "        except:\n",
    "            print(state)\n",
    "            print(\"=========ERRRORRR==========\")\n",
    "            sys.exit(0)\n",
    "            \n",
    "    grid[state[\"food\"][0]][state[\"food\"][1]] = \"@\"\n",
    "    \n",
    "    for i in range(0, len(grid)):\n",
    "        for j in range(0, len(grid[i])):\n",
    "            print(grid[i][j], end =\"\")\n",
    "        print()"
   ]
  },
  {
   "cell_type": "code",
   "execution_count": 226,
   "metadata": {
    "collapsed": true
   },
   "outputs": [],
   "source": [
    "def visualizeSteps(state, inps, speed):\n",
    "    si = copy.deepcopy(state)\n",
    "#     si = state.copy()\n",
    "    for i in range(0, len(inps)):\n",
    "        si = step(si, inps[i])\n",
    "        if si[\"gameState\"]==0:\n",
    "            return\n",
    "        clear_output(wait=True)\n",
    "        visualizeState(si)\n",
    "        time.sleep(speed)\n",
    "    return"
   ]
  },
  {
   "cell_type": "code",
   "execution_count": 227,
   "metadata": {
    "collapsed": true
   },
   "outputs": [],
   "source": [
    "# def reduce(state):\n",
    "#     res = 0\n",
    "#     res += state[\"head\"][0]\n",
    "#     res += state[\"head\"][1]*10\n",
    "#     res += state[\"food\"][0]*100\n",
    "#     res += state[\"food\"][1]*1000\n",
    "#     return res"
   ]
  },
  {
   "cell_type": "code",
   "execution_count": 228,
   "metadata": {
    "collapsed": true
   },
   "outputs": [],
   "source": [
    "def isIn(reduState, q_table):\n",
    "    return q_table.get(reduState, -1)\n",
    "#     for i in range(0, len(q_table)):\n",
    "#         if q_table[i][0]==reduState:\n",
    "#             return i\n",
    "#     return -1"
   ]
  },
  {
   "cell_type": "code",
   "execution_count": 229,
   "metadata": {
    "collapsed": true
   },
   "outputs": [],
   "source": [
    "alpha = 0.7\n",
    "gamma = 1\n",
    "epsilon = 0.1\n",
    "stepReward = -0.5\n",
    "foodReward = 50.0\n",
    "deathReward = -5.0\n",
    "\n",
    "numEps = 1000\n",
    "q_table = {}"
   ]
  },
  {
   "cell_type": "code",
   "execution_count": 230,
   "metadata": {
    "collapsed": true
   },
   "outputs": [],
   "source": [
    "# # epsilon = 0.01\n",
    "# # numEps = 1\n",
    "\n",
    "# inps = []\n",
    "# ssEnd = {}\n",
    "# # q_table = [[reduce(startState.copy()), 0, 0, 0]] #[reduced State, q_left, q_forward, q_right]\n",
    "\n",
    "# oldbars = 0\n",
    "\n",
    "# totalRewards = 0\n",
    "# barNumbers = 50\n",
    "\n",
    "# for g in range(0, numEps):\n",
    "#     startState = newGame()\n",
    "#     si = copy.deepcopy(startState)\n",
    "\n",
    "#     #==== progress printing =====\n",
    "#     if g==numEps-1:\n",
    "#         ssEnd = copy.deepcopy(startState)\n",
    "#     bars = round(barNumbers*g/numEps)\n",
    "#     if bars>oldbars:\n",
    "#         oldbars = bars\n",
    "#         clear_output(wait=True)\n",
    "#         print(\"[\"+(\"=\"*bars)+(\" \"*(barNumbers-bars))+\"]\")\n",
    "#     #==== end progress printing =====\n",
    "    \n",
    "#     while si[\"gameState\"]!=0:\n",
    "#         rsi = reduce(si)\n",
    "#         if isIn(rsi, q_table) == -1:\n",
    "#             q_table[rsi] = [0, 0, 0]\n",
    "#         rowSi = isIn(rsi, q_table)\n",
    "        \n",
    "#         #find q-values of all actions from current state\n",
    "#         qLeft = rowSi[0]\n",
    "#         qForward = rowSi[1]\n",
    "#         qRight = rowSi[2]\n",
    "\n",
    "#         #find max q-value\n",
    "#         at = 0\n",
    "#         if random.uniform(0,1)<epsilon:\n",
    "#             at = round(random.uniform(-1, 1))\n",
    "#         else:\n",
    "#             if qLeft>=qForward and qLeft>=qRight:\n",
    "#                 at = -1\n",
    "#             elif qForward>=qLeft and qForward>=qRight:\n",
    "#                 at = 0\n",
    "#             elif qRight>=qLeft and qRight>=qForward:\n",
    "#                 at = 1\n",
    "        \n",
    "#         if g==numEps-1:\n",
    "#             inps.append(at)\n",
    "        \n",
    "#         #find next state with max q-value action\n",
    "#         siPlus1 = step(si, at)\n",
    "#         sip1hx = siPlus1[\"head\"][0]\n",
    "#         sip1hy = siPlus1[\"head\"][1]\n",
    "#         maxFutureQ = 0\n",
    "#         if 0<=sip1hx<gridSize and 0<=sip1hy<gridSize:\n",
    "#             redu_siPlus1 = reduce(siPlus1)\n",
    "#             row_redu_siPlus1 = isIn(redu_siPlus1, q_table)\n",
    "#             if row_redu_siPlus1!=-1:\n",
    "#                 qsil = row_redu_siPlus1[0]\n",
    "#                 qsif = row_redu_siPlus1[1]\n",
    "#                 qsir = row_redu_siPlus1[2]\n",
    "#                 if qsil>=qsif and qsil>=qsir:\n",
    "#                     maxFutureQ = qsil\n",
    "#                 elif qsif>=qsil and qsif>=qsir:\n",
    "#                     maxFutureQ = qsif\n",
    "#                 elif qsir>=qsil and qsir>=qsif:\n",
    "#                     maxFutureQ = qsir\n",
    "#             else:\n",
    "#                 q_table[redu_siPlus1] = [0, 0, 0]\n",
    "                \n",
    "#         rt = 0\n",
    "#         if siPlus1[\"gameState\"]==0:\n",
    "#             rt = deathReward\n",
    "#         elif siPlus1[\"justAteFood\"]:\n",
    "#             rt = foodReward\n",
    "#         else:\n",
    "#             rt = stepReward\n",
    "#         if g==numEps-1:\n",
    "#             totalRewards += rt\n",
    "#         q_table[rsi][at+1] = (1-alpha)*q_table[rsi][at+1]+alpha*(rt + gamma*maxFutureQ)\n",
    "#         si = siPlus1\n",
    "# visualizeSteps(ssEnd, inps, 0.25)\n",
    "# print(totalRewards)"
   ]
  },
  {
   "cell_type": "code",
   "execution_count": 231,
   "metadata": {},
   "outputs": [],
   "source": [
    "# print(len(q_table))"
   ]
  },
  {
   "cell_type": "code",
   "execution_count": 232,
   "metadata": {
    "collapsed": true
   },
   "outputs": [],
   "source": [
    "def visualizeStates(state, inps, foods, speed):\n",
    "    si = copy.deepcopy(state)\n",
    "    cf = 1\n",
    "    for i in range(0, len(inps)):\n",
    "        si = step(si, inps[i])\n",
    "        if si[\"gameState\"]==0:\n",
    "            return\n",
    "        if si[\"justAteFood\"]:\n",
    "            si[\"food\"] = [foods[cf][0], foods[cf][1]]\n",
    "            cf+=1\n",
    "        clear_output(wait=True)\n",
    "        visualizeState(si)\n",
    "        time.sleep(speed)\n",
    "    return"
   ]
  },
  {
   "cell_type": "markdown",
   "metadata": {},
   "source": [
    "Neural Nets"
   ]
  },
  {
   "cell_type": "code",
   "execution_count": 233,
   "metadata": {
    "collapsed": true
   },
   "outputs": [],
   "source": [
    "def isClearStraightAhead(state, hx, hy, d):\n",
    "    aheadX = hx\n",
    "    aheadY = hy\n",
    "    if d == 0:\n",
    "        aheadY -= 1\n",
    "    elif d==1:\n",
    "        aheadX += 1\n",
    "    elif d==2:\n",
    "        aheadY += 1\n",
    "    elif d==3:\n",
    "        aheadX -= 1\n",
    "    \n",
    "    if (aheadX < 0) or (aheadY < 0) or (aheadX>=gridSize) or (aheadY>=gridSize): #about to head into a wall\n",
    "        return 0\n",
    "    \n",
    "    body = state[\"body\"]\n",
    "    for i in range(len(body)):\n",
    "        if (body[i][0]==aheadX) and (body[i][1]==aheadY):\n",
    "            return 0\n",
    "    return 1"
   ]
  },
  {
   "cell_type": "code",
   "execution_count": 234,
   "metadata": {
    "collapsed": true
   },
   "outputs": [],
   "source": [
    "def isClearLeft(state, hx, hy, d):\n",
    "    lx = hx\n",
    "    ly = hy\n",
    "    if d == 0:\n",
    "        lx -= 1\n",
    "    elif d==1:\n",
    "        ly -= 1\n",
    "    elif d==2:\n",
    "        lx += 1\n",
    "    elif d==3:\n",
    "        ly += 1\n",
    "    \n",
    "    if (lx < 0) or (ly < 0) or (lx>=gridSize) or (ly>=gridSize): #wall is to the left\n",
    "        return 0\n",
    "    \n",
    "    body = state[\"body\"]\n",
    "    for i in range(len(body)):\n",
    "        if (body[i][0]==lx) and (body[i][1]==ly):\n",
    "            return 0\n",
    "    return 1"
   ]
  },
  {
   "cell_type": "code",
   "execution_count": 235,
   "metadata": {
    "collapsed": true
   },
   "outputs": [],
   "source": [
    "def isClearRight(state, hx, hy, d):\n",
    "    rx = hx\n",
    "    ry = hy\n",
    "    if d == 0:\n",
    "        rx += 1\n",
    "    elif d==1:\n",
    "        ry += 1\n",
    "    elif d==2:\n",
    "        rx -= 1\n",
    "    elif d==3:\n",
    "        ry -= 1\n",
    "    \n",
    "    if (rx < 0) or (ry < 0) or (rx>=gridSize) or (ry>=gridSize): #wall is to the right\n",
    "        return 0\n",
    "    \n",
    "    body = state[\"body\"]\n",
    "    for i in range(len(body)):\n",
    "        if (body[i][0]==rx) and (body[i][1]==ry):\n",
    "            return 0\n",
    "    return 1"
   ]
  },
  {
   "cell_type": "code",
   "execution_count": 236,
   "metadata": {
    "collapsed": true
   },
   "outputs": [],
   "source": [
    "def getFoodRelatively(hx, hy, d, fx, fy):\n",
    "    vdir = 0\n",
    "    vleft = 0\n",
    "    if d==0:\n",
    "        vdir = np.array([0, -1])\n",
    "        vleft = np.array([-1, 0])\n",
    "    elif d==1:\n",
    "        vdir = np.array([1, 0])\n",
    "        vleft = np.array([0, -1])\n",
    "    elif d==2:\n",
    "        vdir = np.array([0, 1])\n",
    "        vleft = np.array([1, 0])\n",
    "    elif d==3:\n",
    "        vdir = np.array([-1, 0])\n",
    "        vleft = np.array([0, 1])\n",
    "    vdiff = np.array([fx-hx, fy-hy])\n",
    "    cosang = np.dot(vdir, vdiff)/(np.linalg.norm(vdir)*np.linalg.norm(vdiff))\n",
    "    if cosang>0.707: #sqrt(2)/2\n",
    "        return [1, 0, 0]\n",
    "    elif cosang<-0.707: \n",
    "        return [0, 0, 0]\n",
    "    \n",
    "    cosang = np.dot(vleft, vdiff)/(np.linalg.norm(vleft)*np.linalg.norm(vdiff))\n",
    "    if cosang>0.707: #sqrt(2)/2\n",
    "        return [0, 1, 0]\n",
    "    elif cosang<-0.707: \n",
    "        return [0, 0, 1]"
   ]
  },
  {
   "cell_type": "code",
   "execution_count": 237,
   "metadata": {
    "collapsed": true
   },
   "outputs": [],
   "source": [
    "def state2Tuple(state):\n",
    "    hx = state[\"head\"][0]\n",
    "    hy = state[\"head\"][1]\n",
    "    d = state[\"direction\"]\n",
    "    csa = isClearStraightAhead(state, hx, hy, d)\n",
    "    cl = isClearLeft(state, hx, hy, d)    \n",
    "    cr = isClearRight(state, hx, hy, d)\n",
    "    gfr = getFoodRelatively(hx, hy, d, state[\"food\"][0], state[\"food\"][1])\n",
    "    fsa = gfr[0]\n",
    "    fl = gfr[1]\n",
    "    fr = gfr[2]\n",
    "    return str(csa)+str(cl)+str(cr)+str(fsa)+str(fl)+str(fr)"
   ]
  },
  {
   "cell_type": "code",
   "execution_count": 238,
   "metadata": {
    "collapsed": true
   },
   "outputs": [],
   "source": [
    "def setupQTable():\n",
    "    for csa in range(0, 2): #clear straight ahead\n",
    "        for cl in range(0, 2): #clear left\n",
    "            for cr in range(0, 2): #clear right\n",
    "                for fsa in range(0, 2): #food straight ahead\n",
    "                    for fl in range(0, 2): #food left\n",
    "                        for fr in range(0, 2): #food right\n",
    "                            q_table[str(csa)+str(cl)+str(cr)+str(fsa)+str(fl)+str(fr)] = [0,0,0]"
   ]
  },
  {
   "cell_type": "code",
   "execution_count": 239,
   "metadata": {
    "collapsed": true
   },
   "outputs": [],
   "source": [
    "def helpQTable():\n",
    "    helpAmount = 50\n",
    "    #when food is unobstructed\n",
    "    q_table['111100'][1] = helpAmount #go straight\n",
    "    q_table['110100'][1] = helpAmount #go straight\n",
    "    q_table['101100'][1] = helpAmount #go straight\n",
    "    q_table['100100'][1] = helpAmount #go straight\n",
    "    q_table['111001'][2] = helpAmount #go right\n",
    "    q_table['101001'][2] = helpAmount #go right\n",
    "    q_table['011001'][2] = helpAmount #go right\n",
    "    q_table['001001'][2] = helpAmount #go right\n",
    "    q_table['111010'][0] = helpAmount #go left\n",
    "    q_table['011010'][0] = helpAmount #go left\n",
    "    q_table['110010'][0] = helpAmount #go left\n",
    "    q_table['010010'][0] = helpAmount #go left\n",
    "    #when only one choice\n",
    "    q_table['010010'][0] = helpAmount\n",
    "    q_table['010001'][0] = helpAmount\n",
    "    q_table['010100'][0] = helpAmount\n",
    "    q_table['100010'][1] = helpAmount\n",
    "    q_table['100001'][1] = helpAmount\n",
    "    q_table['100100'][1] = helpAmount\n",
    "    q_table['001010'][2] = helpAmount\n",
    "    q_table['001001'][2] = helpAmount\n",
    "    q_table['001100'][2] = helpAmount"
   ]
  },
  {
   "cell_type": "code",
   "execution_count": 247,
   "metadata": {
    "collapsed": true
   },
   "outputs": [],
   "source": [
    "alpha = 0.5\n",
    "gamma = 0.4\n",
    "epsilon = 0.1\n",
    "stepReward = -1\n",
    "foodReward = 5.0\n",
    "deathReward = -5.0\n",
    "\n",
    "numEps = 100\n",
    "q_table = {}\n",
    "setupQTable()\n",
    "helpQTable()\n",
    "\n",
    "stats = {\n",
    "    \"totalTurnsLived\": 0,\n",
    "    \"totalEps\": 0,\n",
    "    \"totalFoodEaten\": 0\n",
    "}"
   ]
  },
  {
   "cell_type": "code",
   "execution_count": 249,
   "metadata": {
    "scrolled": true
   },
   "outputs": [
    {
     "name": "stdout",
     "output_type": "stream",
     "text": [
      "[==============================================================================                      ]\n"
     ]
    },
    {
     "ename": "KeyboardInterrupt",
     "evalue": "",
     "output_type": "error",
     "traceback": [
      "\u001b[0;31m---------------------------------------------------------------------------\u001b[0m",
      "\u001b[0;31mKeyboardInterrupt\u001b[0m                         Traceback (most recent call last)",
      "\u001b[0;32m<ipython-input-249-f07d721103e8>\u001b[0m in \u001b[0;36m<module>\u001b[0;34m()\u001b[0m\n\u001b[1;32m     52\u001b[0m \u001b[0;34m\u001b[0m\u001b[0m\n\u001b[1;32m     53\u001b[0m         \u001b[0;31m#find next state with max q-value action\u001b[0m\u001b[0;34m\u001b[0m\u001b[0;34m\u001b[0m\u001b[0m\n\u001b[0;32m---> 54\u001b[0;31m         \u001b[0msiPlus1\u001b[0m \u001b[0;34m=\u001b[0m \u001b[0mstep\u001b[0m\u001b[0;34m(\u001b[0m\u001b[0msi\u001b[0m\u001b[0;34m,\u001b[0m \u001b[0mat\u001b[0m\u001b[0;34m)\u001b[0m\u001b[0;34m\u001b[0m\u001b[0m\n\u001b[0m\u001b[1;32m     55\u001b[0m         \u001b[0msip1hx\u001b[0m \u001b[0;34m=\u001b[0m \u001b[0msiPlus1\u001b[0m\u001b[0;34m[\u001b[0m\u001b[0;34m\"head\"\u001b[0m\u001b[0;34m]\u001b[0m\u001b[0;34m[\u001b[0m\u001b[0;36m0\u001b[0m\u001b[0;34m]\u001b[0m\u001b[0;34m\u001b[0m\u001b[0m\n\u001b[1;32m     56\u001b[0m         \u001b[0msip1hy\u001b[0m \u001b[0;34m=\u001b[0m \u001b[0msiPlus1\u001b[0m\u001b[0;34m[\u001b[0m\u001b[0;34m\"head\"\u001b[0m\u001b[0;34m]\u001b[0m\u001b[0;34m[\u001b[0m\u001b[0;36m1\u001b[0m\u001b[0;34m]\u001b[0m\u001b[0;34m\u001b[0m\u001b[0m\n",
      "\u001b[0;32m<ipython-input-223-b24b891ea42a>\u001b[0m in \u001b[0;36mstep\u001b[0;34m(state, inp)\u001b[0m\n\u001b[1;32m     26\u001b[0m                 \u001b[0mbadFood\u001b[0m \u001b[0;34m=\u001b[0m \u001b[0;32mFalse\u001b[0m\u001b[0;34m\u001b[0m\u001b[0m\n\u001b[1;32m     27\u001b[0m                 \u001b[0;32mfor\u001b[0m \u001b[0mi\u001b[0m \u001b[0;32min\u001b[0m \u001b[0mrange\u001b[0m\u001b[0;34m(\u001b[0m\u001b[0;36m0\u001b[0m\u001b[0;34m,\u001b[0m \u001b[0mlen\u001b[0m\u001b[0;34m(\u001b[0m\u001b[0mstate\u001b[0m\u001b[0;34m[\u001b[0m\u001b[0;34m\"body\"\u001b[0m\u001b[0;34m]\u001b[0m\u001b[0;34m)\u001b[0m\u001b[0;34m)\u001b[0m\u001b[0;34m:\u001b[0m\u001b[0;34m\u001b[0m\u001b[0m\n\u001b[0;32m---> 28\u001b[0;31m                     \u001b[0;32mif\u001b[0m \u001b[0mstate\u001b[0m\u001b[0;34m[\u001b[0m\u001b[0;34m\"body\"\u001b[0m\u001b[0;34m]\u001b[0m\u001b[0;34m[\u001b[0m\u001b[0mi\u001b[0m\u001b[0;34m]\u001b[0m\u001b[0;34m[\u001b[0m\u001b[0;36m0\u001b[0m\u001b[0;34m]\u001b[0m \u001b[0;34m==\u001b[0m \u001b[0mfx\u001b[0m \u001b[0;32mand\u001b[0m \u001b[0mstate\u001b[0m\u001b[0;34m[\u001b[0m\u001b[0;34m\"body\"\u001b[0m\u001b[0;34m]\u001b[0m\u001b[0;34m[\u001b[0m\u001b[0mi\u001b[0m\u001b[0;34m]\u001b[0m\u001b[0;34m[\u001b[0m\u001b[0;36m1\u001b[0m\u001b[0;34m]\u001b[0m \u001b[0;34m==\u001b[0m \u001b[0mfy\u001b[0m\u001b[0;34m:\u001b[0m\u001b[0;34m\u001b[0m\u001b[0m\n\u001b[0m\u001b[1;32m     29\u001b[0m                         \u001b[0mbadFood\u001b[0m \u001b[0;34m=\u001b[0m \u001b[0;32mTrue\u001b[0m\u001b[0;34m\u001b[0m\u001b[0m\n\u001b[1;32m     30\u001b[0m                 \u001b[0;32mif\u001b[0m \u001b[0;32mnot\u001b[0m \u001b[0mbadFood\u001b[0m\u001b[0;34m:\u001b[0m\u001b[0;34m\u001b[0m\u001b[0m\n",
      "\u001b[0;31mKeyboardInterrupt\u001b[0m: "
     ]
    }
   ],
   "source": [
    "inps = []\n",
    "foods = []\n",
    "ssEnd = {}\n",
    "\n",
    "oldbars = 0\n",
    "totalRewards = 0\n",
    "barNumbers = 100\n",
    "\n",
    "maxEpsilon = 0.1\n",
    "minEpsilon = 0.01\n",
    "# numEps = 1\n",
    "for g in range(0, numEps):\n",
    "    epsilon = (1-(g/numEps))*(maxEpsilon-minEpsilon)+minEpsilon\n",
    "    stats[\"totalEps\"] += 1\n",
    "    startState = newGame()\n",
    "    si = copy.deepcopy(startState)\n",
    "\n",
    "    #==== progress printing =====\n",
    "    if g==numEps-1:\n",
    "        ssEnd = copy.deepcopy(startState)\n",
    "    bars = round(barNumbers*g/numEps)\n",
    "    if bars>oldbars:\n",
    "        oldbars = bars\n",
    "        clear_output(wait=True)\n",
    "        print(\"[\"+(\"=\"*bars)+(\" \"*(barNumbers-bars))+\"]\")\n",
    "    #==== end progress printing =====\n",
    "    \n",
    "    while si[\"gameState\"]!=0:\n",
    "        stats[\"totalTurnsLived\"]+=1\n",
    "        rsi = state2Tuple(si)\n",
    "        rowSi = isIn(rsi, q_table)\n",
    "        \n",
    "        #find q-values of all actions from current state\n",
    "        qLeft = rowSi[0]\n",
    "        qForward = rowSi[1]\n",
    "        qRight = rowSi[2]\n",
    "\n",
    "        #find max q-value\n",
    "        at = 0\n",
    "        if random.uniform(0,1)<epsilon:\n",
    "            at = round(random.uniform(-1, 1))\n",
    "        else:\n",
    "            if qLeft>=qForward and qLeft>=qRight:\n",
    "                at = -1\n",
    "            elif qForward>=qLeft and qForward>=qRight:\n",
    "                at = 0\n",
    "            elif qRight>=qLeft and qRight>=qForward:\n",
    "                at = 1\n",
    "        \n",
    "        if g==numEps-1:\n",
    "            inps.append(at)\n",
    "        \n",
    "        #find next state with max q-value action\n",
    "        siPlus1 = step(si, at)\n",
    "        sip1hx = siPlus1[\"head\"][0]\n",
    "        sip1hy = siPlus1[\"head\"][1]\n",
    "        maxFutureQ = 0\n",
    "        if 0<=sip1hx<gridSize and 0<=sip1hy<gridSize:\n",
    "            redu_siPlus1 = state2Tuple(siPlus1)\n",
    "            row_redu_siPlus1 = isIn(redu_siPlus1, q_table)\n",
    "            if row_redu_siPlus1!=-1:\n",
    "                qsil = row_redu_siPlus1[0]\n",
    "                qsif = row_redu_siPlus1[1]\n",
    "                qsir = row_redu_siPlus1[2]\n",
    "                if qsil>=qsif and qsil>=qsir:\n",
    "                    maxFutureQ = qsil\n",
    "                elif qsif>=qsil and qsif>=qsir:\n",
    "                    maxFutureQ = qsif\n",
    "                elif qsir>=qsil and qsir>=qsif:\n",
    "                    maxFutureQ = qsir\n",
    "            else: #shouldn't be called\n",
    "                sys.exit(0)\n",
    "                console.log(\"you got problems\")\n",
    "                \n",
    "        rt = 0\n",
    "        if siPlus1[\"gameState\"]==0:\n",
    "            rt = deathReward\n",
    "        elif siPlus1[\"justAteFood\"]:\n",
    "            if g==numEps-1:\n",
    "                if len(foods)==0 or si[\"food\"][0]!=foods[len(foods)-1][0] or si[\"food\"][1]!=foods[len(foods)-1][1]:\n",
    "                    foods.append([si[\"food\"][0], si[\"food\"][1]])\n",
    "            rt = foodReward\n",
    "            stats[\"totalFoodEaten\"]+=1\n",
    "        else:\n",
    "            rt = stepReward\n",
    "        if g==numEps-1:\n",
    "            totalRewards += rt\n",
    "        q_table[rsi][at+1] = (1-alpha)*q_table[rsi][at+1]+alpha*(rt + gamma*maxFutureQ)\n",
    "        si = siPlus1\n",
    "visualizeStates(copy.deepcopy(ssEnd), inps, foods, 0.2)\n",
    "print(totalRewards)\n",
    "print(\"Average turns:\", (stats[\"totalTurnsLived\"]/stats[\"totalEps\"]))\n",
    "print(\"Average food eaten:\", (stats[\"totalFoodEaten\"]/stats[\"totalEps\"]))"
   ]
  },
  {
   "cell_type": "code",
   "execution_count": null,
   "metadata": {},
   "outputs": [],
   "source": [
    "print(inps)"
   ]
  },
  {
   "cell_type": "code",
   "execution_count": null,
   "metadata": {},
   "outputs": [],
   "source": [
    "visualizeStates(copy.deepcopy(ssEnd), inps, foods, 0.2)"
   ]
  }
 ],
 "metadata": {
  "kernelspec": {
   "display_name": "Python 3",
   "language": "python",
   "name": "python3"
  },
  "language_info": {
   "codemirror_mode": {
    "name": "ipython",
    "version": 3
   },
   "file_extension": ".py",
   "mimetype": "text/x-python",
   "name": "python",
   "nbconvert_exporter": "python",
   "pygments_lexer": "ipython3",
   "version": "3.6.3"
  }
 },
 "nbformat": 4,
 "nbformat_minor": 2
}
