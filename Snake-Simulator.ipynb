{
 "cells": [
  {
   "cell_type": "code",
   "execution_count": 131,
   "metadata": {
    "collapsed": true
   },
   "outputs": [],
   "source": [
    "# IMPORTS #\n",
    "\n",
    "import json\n",
    "import random\n",
    "from IPython.display import clear_output\n",
    "import time\n",
    "import sys\n",
    "import copy\n",
    "import math\n",
    "import numpy as np"
   ]
  },
  {
   "cell_type": "code",
   "execution_count": 132,
   "metadata": {
    "collapsed": true
   },
   "outputs": [],
   "source": [
    "# VARIABLE DECLARATIONS #\n",
    "\n",
    "# directions: 0 = up, 1 = right, 2 = down, 3 = left\n",
    "# gameState: 1 = running, 0 = game over\n",
    "gridSize = 10 # 10x10 grid\n",
    "startingBodyLength = 3"
   ]
  },
  {
   "cell_type": "code",
   "execution_count": 133,
   "metadata": {
    "collapsed": true
   },
   "outputs": [],
   "source": [
    "#generate new game state\n",
    "def newGame():\n",
    "    state = {\n",
    "        \"gameState\": 1,\n",
    "        \"justAteFood\": False,\n",
    "        \"turn\": 0,\n",
    "        \"head\": [round(random.uniform(startingBodyLength-1, gridSize-1-startingBodyLength)),\n",
    "                 round(random.uniform(startingBodyLength-1, gridSize-1-startingBodyLength))],\n",
    "        \"direction\": round(random.uniform(0, 3)),\n",
    "    }\n",
    "    body = [state[\"head\"]]\n",
    "    bx, by = 0, 0\n",
    "    if state[\"direction\"]==0:\n",
    "        by = 1\n",
    "    elif state[\"direction\"]==1:\n",
    "        bx = -1\n",
    "    elif state[\"direction\"]==2:\n",
    "        by = -1\n",
    "    elif state[\"direction\"]==3:\n",
    "        bx = 1\n",
    "    for i in range(1, startingBodyLength):\n",
    "        prevBody = body[i-1]\n",
    "        body.append([prevBody[0]+bx, prevBody[1]+by])\n",
    "    state[\"body\"] = body\n",
    "    if state[\"body\"][0]!=state[\"head\"]:\n",
    "        print(\"HEAD IS NOT ON BODY\", state)\n",
    "        sys.exit(0)\n",
    "    \n",
    "    foundGoodFoodStart = False\n",
    "    while not foundGoodFoodStart:\n",
    "        fx = round(random.uniform(startingBodyLength-1, gridSize-1-startingBodyLength))\n",
    "        fy = round(random.uniform(startingBodyLength-1, gridSize-1-startingBodyLength))\n",
    "        badFood = False\n",
    "        for i in range(0, startingBodyLength):\n",
    "            if state[\"body\"][i][0] == fx and state[\"body\"][i][1] == fy:\n",
    "                badFood = True\n",
    "        if not badFood:\n",
    "            state[\"food\"] = [fx, fy]\n",
    "            foundGoodFoodStart = True\n",
    "    return state"
   ]
  },
  {
   "cell_type": "code",
   "execution_count": 134,
   "metadata": {
    "collapsed": true
   },
   "outputs": [],
   "source": [
    "#advance one turn in game, given state and input\n",
    "#inp=-1: left, inp=0: forward, inp=1: right\n",
    "def step(state, inp):\n",
    "    state[\"turn\"] += 1\n",
    "    state[\"direction\"] = (state[\"direction\"]+inp+4)%4 #set new direction\n",
    "    newHeadX, newHeadY = 0, 0\n",
    "    if state[\"direction\"]==0:\n",
    "        newHeadY = -1\n",
    "    elif state[\"direction\"]==1:\n",
    "        newHeadX = 1\n",
    "    elif state[\"direction\"]==2:\n",
    "        newHeadY = 1\n",
    "    elif state[\"direction\"]==3:\n",
    "        newHeadX = -1\n",
    "    newHeadX += state[\"head\"][0]\n",
    "    newHeadY += state[\"head\"][1]\n",
    "    state[\"head\"] = [newHeadX, newHeadY] #set new head\n",
    "    state[\"body\"].insert(0, state[\"head\"]) #add new head to body\n",
    "    if state[\"head\"][0]==state[\"food\"][0] and state[\"head\"][1]==state[\"food\"][1]: #ate food\n",
    "        state[\"justAteFood\"]= True\n",
    "        if len(state[\"body\"])!=gridSize*gridSize: #snake does not fill entire board yet\n",
    "            possibleFoods = []\n",
    "            for i in range(0, gridSize*gridSize): #(x, y) -> x+gridSize*y\n",
    "                possibleFoods.append(i+1) #+1 so 0,0 can also be negative\n",
    "            for i in range(0, len(state[\"body\"])): # i -> (i%gridSize, floor(i/gridSize))\n",
    "                ind = state[\"body\"][i][0]+gridSize*state[\"body\"][i][1]\n",
    "                possibleFoods[ind] *= -1\n",
    "            i = 0\n",
    "            while i<len(possibleFoods):\n",
    "                if possibleFoods[i]<0:\n",
    "                    del possibleFoods[i]\n",
    "#                     possibleFoods.splice(i, 1)\n",
    "                else:\n",
    "                    i += 1\n",
    "            nextFoodInd = random.randint(0, len(possibleFoods)-1)\n",
    "            nextFoodVal = possibleFoods[nextFoodInd]-1\n",
    "            fx = nextFoodVal%gridSize\n",
    "            fy = math.floor(nextFoodVal/gridSize)\n",
    "            state[\"food\"] = [fx, fy]\n",
    "            \n",
    "        else: #snake fills entire board\n",
    "            state[\"gameState\"] = 0\n",
    "    else: #did not eat food\n",
    "        state[\"justAteFood\"]= False\n",
    "        bodyLen = len(state[\"body\"])\n",
    "        state[\"body\"].pop(bodyLen-1) #get rid of last tail\n",
    "    \n",
    "    #check if game over\n",
    "    hx = state[\"head\"][0]\n",
    "    hy = state[\"head\"][1]\n",
    "    if hx<0 or hx >= gridSize or hy<0 or hy >= gridSize: #hit a wall\n",
    "        state[\"gameState\"] = 0\n",
    "    else: #check if ran into self\n",
    "        for i in range(1, len(state[\"body\"])):\n",
    "            if state[\"body\"][i][0]==hx and state[\"body\"][i][1]==hy:\n",
    "                state[\"gameState\"] = 0\n",
    "    \n",
    "    return state"
   ]
  },
  {
   "cell_type": "code",
   "execution_count": 135,
   "metadata": {
    "collapsed": true
   },
   "outputs": [],
   "source": [
    "def steps(state, inps):\n",
    "    si = copy.deepcopy(state)\n",
    "#     si = state.copy()\n",
    "    for i in range(0, len(inps)):\n",
    "        si = step(si, inps[i])\n",
    "        if si[\"gameState\"]==0:\n",
    "            return si\n",
    "    return si"
   ]
  },
  {
   "cell_type": "code",
   "execution_count": 136,
   "metadata": {
    "collapsed": true
   },
   "outputs": [],
   "source": [
    "def visualizeState(state):\n",
    "    grid = [[\"_\" for x in range(gridSize)] for y in range(gridSize)] \n",
    "    grid[state[\"head\"][0]][state[\"head\"][1]] = \"#\"\n",
    "    for i in range(1, len(state[\"body\"])):\n",
    "        try:\n",
    "            grid[state[\"body\"][i][0]][state[\"body\"][i][1]] = \"*\"\n",
    "        except:\n",
    "            print(state)\n",
    "            print(\"=========ERRRORRR==========\")\n",
    "            sys.exit(0)\n",
    "            \n",
    "    grid[state[\"food\"][0]][state[\"food\"][1]] = \"@\"\n",
    "    \n",
    "    for i in range(0, len(grid)):\n",
    "        for j in range(0, len(grid[i])):\n",
    "            print(grid[i][j], end =\"\")\n",
    "        print()"
   ]
  },
  {
   "cell_type": "code",
   "execution_count": 137,
   "metadata": {
    "collapsed": true
   },
   "outputs": [],
   "source": [
    "def visualizeSteps(state, inps, speed):\n",
    "    si = copy.deepcopy(state)\n",
    "#     si = state.copy()\n",
    "    for i in range(0, len(inps)):\n",
    "        si = step(si, inps[i])\n",
    "        if si[\"gameState\"]==0:\n",
    "            return\n",
    "        clear_output(wait=True)\n",
    "        visualizeState(si)\n",
    "        time.sleep(speed)\n",
    "    return"
   ]
  },
  {
   "cell_type": "code",
   "execution_count": 138,
   "metadata": {
    "collapsed": true
   },
   "outputs": [],
   "source": [
    "# def reduce(state):\n",
    "#     res = 0\n",
    "#     res += state[\"head\"][0]\n",
    "#     res += state[\"head\"][1]*10\n",
    "#     res += state[\"food\"][0]*100\n",
    "#     res += state[\"food\"][1]*1000\n",
    "#     return res"
   ]
  },
  {
   "cell_type": "code",
   "execution_count": 139,
   "metadata": {
    "collapsed": true
   },
   "outputs": [],
   "source": [
    "def isIn(reduState, q_table):\n",
    "    return q_table.get(reduState, -1)\n",
    "#     for i in range(0, len(q_table)):\n",
    "#         if q_table[i][0]==reduState:\n",
    "#             return i\n",
    "#     return -1"
   ]
  },
  {
   "cell_type": "code",
   "execution_count": 140,
   "metadata": {
    "collapsed": true
   },
   "outputs": [],
   "source": [
    "alpha = 0.7\n",
    "gamma = 1\n",
    "epsilon = 0.1\n",
    "stepReward = -0.5\n",
    "foodReward = 50.0\n",
    "deathReward = -5.0\n",
    "\n",
    "numEps = 1000\n",
    "q_table = {}"
   ]
  },
  {
   "cell_type": "code",
   "execution_count": 141,
   "metadata": {
    "collapsed": true
   },
   "outputs": [],
   "source": [
    "# # epsilon = 0.01\n",
    "# # numEps = 1\n",
    "\n",
    "# inps = []\n",
    "# ssEnd = {}\n",
    "# # q_table = [[reduce(startState.copy()), 0, 0, 0]] #[reduced State, q_left, q_forward, q_right]\n",
    "\n",
    "# oldbars = 0\n",
    "\n",
    "# totalRewards = 0\n",
    "# barNumbers = 50\n",
    "\n",
    "# for g in range(0, numEps):\n",
    "#     startState = newGame()\n",
    "#     si = copy.deepcopy(startState)\n",
    "\n",
    "#     #==== progress printing =====\n",
    "#     if g==numEps-1:\n",
    "#         ssEnd = copy.deepcopy(startState)\n",
    "#     bars = round(barNumbers*g/numEps)\n",
    "#     if bars>oldbars:\n",
    "#         oldbars = bars\n",
    "#         clear_output(wait=True)\n",
    "#         print(\"[\"+(\"=\"*bars)+(\" \"*(barNumbers-bars))+\"]\")\n",
    "#     #==== end progress printing =====\n",
    "    \n",
    "#     while si[\"gameState\"]!=0:\n",
    "#         rsi = reduce(si)\n",
    "#         if isIn(rsi, q_table) == -1:\n",
    "#             q_table[rsi] = [0, 0, 0]\n",
    "#         rowSi = isIn(rsi, q_table)\n",
    "        \n",
    "#         #find q-values of all actions from current state\n",
    "#         qLeft = rowSi[0]\n",
    "#         qForward = rowSi[1]\n",
    "#         qRight = rowSi[2]\n",
    "\n",
    "#         #find max q-value\n",
    "#         at = 0\n",
    "#         if random.uniform(0,1)<epsilon:\n",
    "#             at = round(random.uniform(-1, 1))\n",
    "#         else:\n",
    "#             if qLeft>=qForward and qLeft>=qRight:\n",
    "#                 at = -1\n",
    "#             elif qForward>=qLeft and qForward>=qRight:\n",
    "#                 at = 0\n",
    "#             elif qRight>=qLeft and qRight>=qForward:\n",
    "#                 at = 1\n",
    "        \n",
    "#         if g==numEps-1:\n",
    "#             inps.append(at)\n",
    "        \n",
    "#         #find next state with max q-value action\n",
    "#         siPlus1 = step(si, at)\n",
    "#         sip1hx = siPlus1[\"head\"][0]\n",
    "#         sip1hy = siPlus1[\"head\"][1]\n",
    "#         maxFutureQ = 0\n",
    "#         if 0<=sip1hx<gridSize and 0<=sip1hy<gridSize:\n",
    "#             redu_siPlus1 = reduce(siPlus1)\n",
    "#             row_redu_siPlus1 = isIn(redu_siPlus1, q_table)\n",
    "#             if row_redu_siPlus1!=-1:\n",
    "#                 qsil = row_redu_siPlus1[0]\n",
    "#                 qsif = row_redu_siPlus1[1]\n",
    "#                 qsir = row_redu_siPlus1[2]\n",
    "#                 if qsil>=qsif and qsil>=qsir:\n",
    "#                     maxFutureQ = qsil\n",
    "#                 elif qsif>=qsil and qsif>=qsir:\n",
    "#                     maxFutureQ = qsif\n",
    "#                 elif qsir>=qsil and qsir>=qsif:\n",
    "#                     maxFutureQ = qsir\n",
    "#             else:\n",
    "#                 q_table[redu_siPlus1] = [0, 0, 0]\n",
    "                \n",
    "#         rt = 0\n",
    "#         if siPlus1[\"gameState\"]==0:\n",
    "#             rt = deathReward\n",
    "#         elif siPlus1[\"justAteFood\"]:\n",
    "#             rt = foodReward\n",
    "#         else:\n",
    "#             rt = stepReward\n",
    "#         if g==numEps-1:\n",
    "#             totalRewards += rt\n",
    "#         q_table[rsi][at+1] = (1-alpha)*q_table[rsi][at+1]+alpha*(rt + gamma*maxFutureQ)\n",
    "#         si = siPlus1\n",
    "# visualizeSteps(ssEnd, inps, 0.25)\n",
    "# print(totalRewards)"
   ]
  },
  {
   "cell_type": "code",
   "execution_count": 142,
   "metadata": {
    "collapsed": true
   },
   "outputs": [],
   "source": [
    "# print(len(q_table))"
   ]
  },
  {
   "cell_type": "code",
   "execution_count": 143,
   "metadata": {
    "collapsed": true
   },
   "outputs": [],
   "source": [
    "def visualizeStates(state, inps, foods, speed):\n",
    "    si = copy.deepcopy(state)\n",
    "    cf = 1\n",
    "    for i in range(0, len(inps)):\n",
    "        si = step(si, inps[i])\n",
    "        if si[\"gameState\"]==0:\n",
    "            return\n",
    "        if si[\"justAteFood\"]:\n",
    "            si[\"food\"] = [foods[cf][0], foods[cf][1]]\n",
    "            cf+=1\n",
    "        clear_output(wait=True)\n",
    "        visualizeState(si)\n",
    "        time.sleep(speed)\n",
    "    return"
   ]
  },
  {
   "cell_type": "markdown",
   "metadata": {},
   "source": [
    "Neural Nets"
   ]
  },
  {
   "cell_type": "code",
   "execution_count": 144,
   "metadata": {
    "collapsed": true
   },
   "outputs": [],
   "source": [
    "def isClearStraightAhead(state, hx, hy, d):\n",
    "    aheadX = hx\n",
    "    aheadY = hy\n",
    "    if d == 0:\n",
    "        aheadY -= 1\n",
    "    elif d==1:\n",
    "        aheadX += 1\n",
    "    elif d==2:\n",
    "        aheadY += 1\n",
    "    elif d==3:\n",
    "        aheadX -= 1\n",
    "    \n",
    "    if (aheadX < 0) or (aheadY < 0) or (aheadX>=gridSize) or (aheadY>=gridSize): #about to head into a wall\n",
    "        return 0\n",
    "    \n",
    "    body = state[\"body\"]\n",
    "    for i in range(len(body)):\n",
    "        if (body[i][0]==aheadX) and (body[i][1]==aheadY):\n",
    "            return 0\n",
    "    return 1"
   ]
  },
  {
   "cell_type": "code",
   "execution_count": 145,
   "metadata": {
    "collapsed": true
   },
   "outputs": [],
   "source": [
    "def isClearLeft(state, hx, hy, d):\n",
    "    lx = hx\n",
    "    ly = hy\n",
    "    if d == 0:\n",
    "        lx -= 1\n",
    "    elif d==1:\n",
    "        ly -= 1\n",
    "    elif d==2:\n",
    "        lx += 1\n",
    "    elif d==3:\n",
    "        ly += 1\n",
    "    \n",
    "    if (lx < 0) or (ly < 0) or (lx>=gridSize) or (ly>=gridSize): #wall is to the left\n",
    "        return 0\n",
    "    \n",
    "    body = state[\"body\"]\n",
    "    for i in range(len(body)):\n",
    "        if (body[i][0]==lx) and (body[i][1]==ly):\n",
    "            return 0\n",
    "    return 1"
   ]
  },
  {
   "cell_type": "code",
   "execution_count": 146,
   "metadata": {
    "collapsed": true
   },
   "outputs": [],
   "source": [
    "def isClearRight(state, hx, hy, d):\n",
    "    rx = hx\n",
    "    ry = hy\n",
    "    if d == 0:\n",
    "        rx += 1\n",
    "    elif d==1:\n",
    "        ry += 1\n",
    "    elif d==2:\n",
    "        rx -= 1\n",
    "    elif d==3:\n",
    "        ry -= 1\n",
    "    \n",
    "    if (rx < 0) or (ry < 0) or (rx>=gridSize) or (ry>=gridSize): #wall is to the right\n",
    "        return 0\n",
    "    \n",
    "    body = state[\"body\"]\n",
    "    for i in range(len(body)):\n",
    "        if (body[i][0]==rx) and (body[i][1]==ry):\n",
    "            return 0\n",
    "    return 1"
   ]
  },
  {
   "cell_type": "code",
   "execution_count": 147,
   "metadata": {
    "collapsed": true
   },
   "outputs": [],
   "source": [
    "def getFoodRelatively(hx, hy, d, fx, fy):\n",
    "    vdir = 0\n",
    "    vleft = 0\n",
    "    if d==0:\n",
    "        vdir = np.array([0, -1])\n",
    "        vleft = np.array([-1, 0])\n",
    "    elif d==1:\n",
    "        vdir = np.array([1, 0])\n",
    "        vleft = np.array([0, -1])\n",
    "    elif d==2:\n",
    "        vdir = np.array([0, 1])\n",
    "        vleft = np.array([1, 0])\n",
    "    elif d==3:\n",
    "        vdir = np.array([-1, 0])\n",
    "        vleft = np.array([0, 1])\n",
    "    vdiff = np.array([fx-hx, fy-hy])\n",
    "    cosang = np.dot(vdir, vdiff)/(np.linalg.norm(vdir)*np.linalg.norm(vdiff))\n",
    "    if cosang>0.707: #sqrt(2)/2\n",
    "        return [1, 0, 0]\n",
    "    elif cosang<-0.707: \n",
    "        return [0, 0, 0]\n",
    "    \n",
    "    cosang = np.dot(vleft, vdiff)/(np.linalg.norm(vleft)*np.linalg.norm(vdiff))\n",
    "    if cosang>0.707: #sqrt(2)/2\n",
    "        return [0, 1, 0]\n",
    "    elif cosang<-0.707: \n",
    "        return [0, 0, 1]"
   ]
  },
  {
   "cell_type": "code",
   "execution_count": 148,
   "metadata": {
    "collapsed": true
   },
   "outputs": [],
   "source": [
    "def state2Tuple(state):\n",
    "    hx = state[\"head\"][0]\n",
    "    hy = state[\"head\"][1]\n",
    "    d = state[\"direction\"]\n",
    "    csa = isClearStraightAhead(state, hx, hy, d)\n",
    "    cl = isClearLeft(state, hx, hy, d)    \n",
    "    cr = isClearRight(state, hx, hy, d)\n",
    "    gfr = getFoodRelatively(hx, hy, d, state[\"food\"][0], state[\"food\"][1])\n",
    "    fsa = gfr[0]\n",
    "    fl = gfr[1]\n",
    "    fr = gfr[2]\n",
    "    return str(csa)+str(cl)+str(cr)+str(fsa)+str(fl)+str(fr)"
   ]
  },
  {
   "cell_type": "code",
   "execution_count": 149,
   "metadata": {
    "collapsed": true
   },
   "outputs": [],
   "source": [
    "def setupQTable():\n",
    "    for csa in range(0, 2): #clear straight ahead\n",
    "        for cl in range(0, 2): #clear left\n",
    "            for cr in range(0, 2): #clear right\n",
    "                q_table[str(csa)+str(cl)+str(cr)+\"001\"] = [0,0,0]\n",
    "                q_table[str(csa)+str(cl)+str(cr)+\"010\"] = [0,0,0]\n",
    "                q_table[str(csa)+str(cl)+str(cr)+\"100\"] = [0,0,0]\n",
    "                q_table[str(csa)+str(cl)+str(cr)+\"000\"] = [0,0,0]"
   ]
  },
  {
   "cell_type": "code",
   "execution_count": 150,
   "metadata": {
    "collapsed": true
   },
   "outputs": [],
   "source": [
    "def helpQTable():\n",
    "    helpAmount = 50\n",
    "    #when food is unobstructed\n",
    "    q_table['111100'][1] = helpAmount #go straight\n",
    "    q_table['110100'][1] = helpAmount #go straight\n",
    "    q_table['101100'][1] = helpAmount #go straight\n",
    "    q_table['100100'][1] = helpAmount #go straight\n",
    "    q_table['111001'][2] = helpAmount #go right\n",
    "    q_table['101001'][2] = helpAmount #go right\n",
    "    q_table['011001'][2] = helpAmount #go right\n",
    "    q_table['001001'][2] = helpAmount #go right\n",
    "    q_table['111010'][0] = helpAmount #go left\n",
    "    q_table['011010'][0] = helpAmount #go left\n",
    "    q_table['110010'][0] = helpAmount #go left\n",
    "    q_table['010010'][0] = helpAmount #go left\n",
    "    #when only one choice\n",
    "    q_table['010010'][0] = helpAmount\n",
    "    q_table['010001'][0] = helpAmount\n",
    "    q_table['010100'][0] = helpAmount\n",
    "    q_table['100010'][1] = helpAmount\n",
    "    q_table['100001'][1] = helpAmount\n",
    "    q_table['100100'][1] = helpAmount\n",
    "    q_table['001010'][2] = helpAmount\n",
    "    q_table['001001'][2] = helpAmount\n",
    "    q_table['001100'][2] = helpAmount"
   ]
  },
  {
   "cell_type": "code",
   "execution_count": 151,
   "metadata": {},
   "outputs": [],
   "source": [
    "def readQTable(filename):\n",
    "    with open(filename) as fileobj:\n",
    "        qt = eval(fileobj.read())\n",
    "        for i in qt:\n",
    "            q_table[i] = qt[i]\n",
    "        fileobj.close()"
   ]
  },
  {
   "cell_type": "markdown",
   "metadata": {},
   "source": [
    "#### *alpha needs to be small* ($\\alpha$ = 0.2)\n",
    "#### *gamma also needs to be small* ($\\gamma$ = 0.3)\n",
    "![alt-text](http://www.thelogomix.com/files/imagecache/v3-logo-detail/snake-01.png \"a logo\")"
   ]
  },
  {
   "cell_type": "code",
   "execution_count": 259,
   "metadata": {},
   "outputs": [],
   "source": [
    "#q_table[rsi][at+1] = (1-alpha)*q_table[rsi][at+1]+alpha*(rt + gamma*maxFutureQ)\n",
    "def sim(alpha=0.2, gamma=0.8, minEpsilon = 0.005, maxEpsilon = 0.01, numEps = 1000, foodReward=10, stepReward=-2, deathReward=-10, printStats = False, showLastSim = True):\n",
    "    # alpha = 0.2\n",
    "    # gamma = 0.8\n",
    "    # maxEpsilon = 0.01\n",
    "    # minEpsilon = 0.005\n",
    "\n",
    "    # stepReward = -2\n",
    "    # foodReward = 10.0\n",
    "    # deathReward = -10.0\n",
    "\n",
    "    # numEps = 1000\n",
    "    q_table = {}\n",
    "    setupQTable()\n",
    "    helpQTable()\n",
    "    # readQTable(\"greatqtable_json.txt\")\n",
    "    # print(q_table)\n",
    "    stats = {\n",
    "        \"buckets\": 10,\n",
    "        \"totalEps\": 0,\n",
    "        \"lastBucket\": -1\n",
    "    }\n",
    "    stats[\"bucketSize\"] = numEps/stats[\"buckets\"]\n",
    "    stats[\"totalTurnsLived\"] = [0]*stats[\"buckets\"]\n",
    "    stats[\"totalFoodEaten\"] = [0]*stats[\"buckets\"]\n",
    "    return runSim(alpha, gamma, minEpsilon, maxEpsilon, numEps, foodReward, stepReward, deathReward, printStats, showLastSim, stats)"
   ]
  },
  {
   "cell_type": "code",
   "execution_count": 260,
   "metadata": {
    "scrolled": true
   },
   "outputs": [],
   "source": [
    "def runSim(alpha, gamma, minEpsilon, maxEpsilon, numEps, foodReward, stepReward, deathReward, printStats, showLastSim, stats):\n",
    "    inps = []\n",
    "    foods = []\n",
    "    ssEnd = {}\n",
    "\n",
    "    oldbars = -1\n",
    "    totalRewards = 0\n",
    "    barNumbers = 100\n",
    "\n",
    "    # numEps = 1\n",
    "    for g in range(0, numEps):\n",
    "        epsilon = (1-(g/numEps))*(maxEpsilon-minEpsilon)+minEpsilon\n",
    "        #get stats\n",
    "        if printStats:\n",
    "            bucket = math.floor(g/stats[\"bucketSize\"])\n",
    "            if bucket>stats[\"lastBucket\"]:\n",
    "                stats[\"lastBucket\"] = bucket\n",
    "            stats[\"totalEps\"] += 1\n",
    "        #end stats\n",
    "        startState = newGame()\n",
    "        si = copy.deepcopy(startState)\n",
    "\n",
    "        #==== progress printing =====\n",
    "        if g==numEps-1:\n",
    "            ssEnd = copy.deepcopy(startState)\n",
    "        bars = round(barNumbers*g/numEps)\n",
    "        if bars>oldbars:\n",
    "            oldbars = bars\n",
    "            clear_output(wait=True)\n",
    "            print(\"[\"+(\"=\"*bars)+(\" \"*(barNumbers-bars))+\"]\")\n",
    "        #==== end progress printing =====\n",
    "\n",
    "        while si[\"gameState\"]!=0:\n",
    "            if printStats:\n",
    "                stats[\"totalTurnsLived\"][stats[\"lastBucket\"]]+=1\n",
    "            rsi = state2Tuple(si)\n",
    "            rowSi = isIn(rsi, q_table)\n",
    "\n",
    "            #find q-values of all actions from current state\n",
    "            qLeft = rowSi[0]\n",
    "            qForward = rowSi[1]\n",
    "            qRight = rowSi[2]\n",
    "\n",
    "            #find max q-value\n",
    "            at = 0\n",
    "            if random.uniform(0,1)<epsilon:\n",
    "                at = round(random.uniform(-1, 1))\n",
    "            else:\n",
    "                if qLeft>=qForward and qLeft>=qRight:\n",
    "                    at = -1\n",
    "                elif qForward>=qLeft and qForward>=qRight:\n",
    "                    at = 0\n",
    "                elif qRight>=qLeft and qRight>=qForward:\n",
    "                    at = 1\n",
    "\n",
    "            if g==numEps-1:\n",
    "                inps.append(at)\n",
    "\n",
    "            #find next state with max q-value action\n",
    "            siPlus1 = step(si, at)\n",
    "            sip1hx = siPlus1[\"head\"][0]\n",
    "            sip1hy = siPlus1[\"head\"][1]\n",
    "            maxFutureQ = 0\n",
    "            if 0<=sip1hx<gridSize and 0<=sip1hy<gridSize:\n",
    "                redu_siPlus1 = state2Tuple(siPlus1)\n",
    "                row_redu_siPlus1 = isIn(redu_siPlus1, q_table)\n",
    "                if row_redu_siPlus1!=-1:\n",
    "                    qsil = row_redu_siPlus1[0]\n",
    "                    qsif = row_redu_siPlus1[1]\n",
    "                    qsir = row_redu_siPlus1[2]\n",
    "                    if qsil>=qsif and qsil>=qsir:\n",
    "                        maxFutureQ = qsil\n",
    "                    elif qsif>=qsil and qsif>=qsir:\n",
    "                        maxFutureQ = qsif\n",
    "                    elif qsir>=qsil and qsir>=qsif:\n",
    "                        maxFutureQ = qsir\n",
    "                else: #shouldn't be called\n",
    "                    sys.exit(0)\n",
    "                    console.log(\"you got problems\")\n",
    "\n",
    "            rt = 0\n",
    "            if siPlus1[\"gameState\"]==0:\n",
    "                rt = deathReward\n",
    "            elif siPlus1[\"justAteFood\"]:\n",
    "                rt = foodReward\n",
    "                if printStats:\n",
    "                    stats[\"totalFoodEaten\"][stats[\"lastBucket\"]]+=1\n",
    "            else:\n",
    "                rt = stepReward\n",
    "            if g==numEps-1:\n",
    "                if len(foods)==0 or si[\"food\"][0]!=foods[len(foods)-1][0] or si[\"food\"][1]!=foods[len(foods)-1][1]:\n",
    "                    foods.append([si[\"food\"][0], si[\"food\"][1]])\n",
    "                totalRewards += rt\n",
    "            q_table[rsi][at+1] = (1-alpha)*q_table[rsi][at+1]+alpha*(rt + gamma*maxFutureQ)\n",
    "            si = siPlus1\n",
    "    if showLastSim:\n",
    "        visualizeStates(copy.deepcopy(ssEnd), inps, foods, 0.2)\n",
    "#     print(totalRewards)\n",
    "    if printStats:\n",
    "        return stats\n",
    "    else:\n",
    "        return\n",
    "#     print(\"Average turns:\", (stats[\"totalTurnsLived\"][stats[\"buckets\"]-1]*stats[\"buckets\"]/stats[\"totalEps\"]))\n",
    "#     print(\"Average food eaten:\", (stats[\"totalFoodEaten\"][stats[\"buckets\"]-1]*stats[\"buckets\"]/stats[\"totalEps\"]))"
   ]
  },
  {
   "cell_type": "code",
   "execution_count": 261,
   "metadata": {},
   "outputs": [
    {
     "name": "stdout",
     "output_type": "stream",
     "text": [
      "[====================================================================================================]\n",
      "[177, 384, 1116, 1391, 1230, 1199, 1175, 1231, 1567, 1338]\n",
      "[3936, 5126, 9969, 13193, 11505, 10166, 15560, 18981, 14492, 12778]\n"
     ]
    }
   ],
   "source": [
    "stats = sim(printStats=True, showLastSim = False)\n",
    "print(stats[\"totalFoodEaten\"])\n",
    "print(stats[\"totalTurnsLived\"])"
   ]
  },
  {
   "cell_type": "code",
   "execution_count": 243,
   "metadata": {},
   "outputs": [],
   "source": [
    "# f = open(\"greatqtable.txt\",\"w\")\n",
    "# f.write( str(q_table) )\n",
    "# f.close()"
   ]
  }
 ],
 "metadata": {
  "kernelspec": {
   "display_name": "Python 3",
   "language": "python",
   "name": "python3"
  },
  "language_info": {
   "codemirror_mode": {
    "name": "ipython",
    "version": 3
   },
   "file_extension": ".py",
   "mimetype": "text/x-python",
   "name": "python",
   "nbconvert_exporter": "python",
   "pygments_lexer": "ipython3",
   "version": "3.6.3"
  }
 },
 "nbformat": 4,
 "nbformat_minor": 2
}
